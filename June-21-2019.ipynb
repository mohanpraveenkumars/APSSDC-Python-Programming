{
 "cells": [
  {
   "cell_type": "markdown",
   "metadata": {},
   "source": [
    "## Cipher (HackerEarth)\n",
    "\n",
    "Indian army is going to do a surprise attack on one of its enemies country. The President of India, the Supreme Commander of the Indian Army will be sending an alert message to all its commanding centers. As enemy would be monitoring the message, Indian army is going to encrypt(cipher) the message using basic encryption technique. A decoding key 'K' (number) would be sent secretly.\n",
    "\n",
    "You are assigned to develop a cipher program to encrypt the message. Your cipher must rotate every character in the message by a fixed number making it unreadable by enemies.\n",
    "\n",
    "Given a single line of string 'S' containing alpha, numeric and symbols, followed by a number '0<=N<=1000'. Encrypt and print the resulting string.\n",
    "\n",
    "Note: The cipher only encrypts Alpha and Numeric. (A-Z, a-z, and 0-9) . All Symbols, such as - , ; %, remain unencrypted."
   ]
  },
  {
   "cell_type": "code",
   "execution_count": null,
   "metadata": {},
   "outputs": [],
   "source": []
  },
  {
   "cell_type": "code",
   "execution_count": null,
   "metadata": {},
   "outputs": [],
   "source": []
  },
  {
   "cell_type": "code",
   "execution_count": 75,
   "metadata": {},
   "outputs": [
    {
     "name": "stdout",
     "output_type": "stream",
     "text": [
      "abcdZXYzxy-999.@\n",
      "200\n",
      "ĩĪīĬĢĠġłŀŁ-199199199.@\n"
     ]
    }
   ],
   "source": [
    "def cipher(s,k):\n",
    "    new=\"\"\n",
    "    for i in s:\n",
    "        if i.isdigit():\n",
    "            num = ord(i)+k\n",
    "            if num > 58:\n",
    "                num_asci = num - 58\n",
    "                num = str(int(num_asci))\n",
    "            else:\n",
    "                num = chr(num)\n",
    "            new = new + num\n",
    "        elif i.isalpha():\n",
    "            asci=ord(i)+k\n",
    "            if asci > 123:\n",
    "                char_asci = asci - 122\n",
    "            asci = chr(asci)\n",
    "            new=new+asci\n",
    "        else:\n",
    "            new = new +i\n",
    "    print(new)\n",
    "            \n",
    "    \n",
    "string = input()\n",
    "key = int(input())\n",
    "cipher(string,key)"
   ]
  },
  {
   "cell_type": "code",
   "execution_count": 78,
   "metadata": {},
   "outputs": [
    {
     "data": {
      "text/plain": [
       "18"
      ]
     },
     "execution_count": 78,
     "metadata": {},
     "output_type": "execute_result"
    }
   ],
   "source": [
    "200%26"
   ]
  },
  {
   "cell_type": "code",
   "execution_count": 77,
   "metadata": {},
   "outputs": [
    {
     "data": {
      "text/plain": [
       "'s'"
      ]
     },
     "execution_count": 77,
     "metadata": {},
     "output_type": "execute_result"
    }
   ],
   "source": [
    "chr(115)"
   ]
  },
  {
   "cell_type": "code",
   "execution_count": 15,
   "metadata": {},
   "outputs": [
    {
     "name": "stdout",
     "output_type": "stream",
     "text": [
      "All-convoYs-9-be:Alert1.\n",
      "4\n",
      "Epp-gsrzs]w-=-fi:Epivx5.\n"
     ]
    }
   ],
   "source": [
    "def cipher(s,k):\n",
    "    new=\"\"\n",
    "    for i in s:\n",
    "        if i.isdigit():\n",
    "            num = chr(ord(i)+k)\n",
    "            new = new + num\n",
    "        elif i.isalpha():\n",
    "            asci=chr(ord(i)+k)\n",
    "            new=new+asci \n",
    "        else:\n",
    "            new = new+i\n",
    "    print(new)          \n",
    "    \n",
    "string = input()\n",
    "key = int(input())\n",
    "cipher(string,key)"
   ]
  },
  {
   "cell_type": "code",
   "execution_count": null,
   "metadata": {},
   "outputs": [],
   "source": []
  },
  {
   "cell_type": "code",
   "execution_count": null,
   "metadata": {},
   "outputs": [],
   "source": []
  },
  {
   "cell_type": "code",
   "execution_count": 4,
   "metadata": {},
   "outputs": [
    {
     "data": {
      "text/plain": [
       "90"
      ]
     },
     "execution_count": 4,
     "metadata": {},
     "output_type": "execute_result"
    }
   ],
   "source": [
    "ord('Z')"
   ]
  },
  {
   "cell_type": "code",
   "execution_count": 54,
   "metadata": {},
   "outputs": [
    {
     "data": {
      "text/plain": [
       "51"
      ]
     },
     "execution_count": 54,
     "metadata": {},
     "output_type": "execute_result"
    }
   ],
   "source": [
    "61-57+47"
   ]
  },
  {
   "cell_type": "code",
   "execution_count": 53,
   "metadata": {},
   "outputs": [
    {
     "data": {
      "text/plain": [
       "'3'"
      ]
     },
     "execution_count": 53,
     "metadata": {},
     "output_type": "execute_result"
    }
   ],
   "source": [
    "chr(51)"
   ]
  },
  {
   "cell_type": "code",
   "execution_count": null,
   "metadata": {},
   "outputs": [],
   "source": []
  },
  {
   "cell_type": "markdown",
   "metadata": {},
   "source": [
    "# File handing using regular Expressions (class)"
   ]
  },
  {
   "cell_type": "code",
   "execution_count": 64,
   "metadata": {},
   "outputs": [
    {
     "name": "stdout",
     "output_type": "stream",
     "text": [
      "name3 added to contacts\n"
     ]
    }
   ],
   "source": [
    "#Function to add contacts text file\n",
    "\n",
    "from PACKAGES.Validations import phoneNumberValidater as checkphn\n",
    "from PACKAGES.Validations import emailValidater as checkemail\n",
    "\n",
    "def addcontact(name, phone, email):\n",
    "    #store data as name, phone, email in the contact\n",
    "    filename = 'DataFiles/Contacts.txt'\n",
    "    if not check_contact(name):\n",
    "        if checkphn(phone) and checkemail(email):\n",
    "            with open(filename, 'a') as f:\n",
    "                line = name + ' ,' +str(phone)+ ' ,' +email+ '\\n'\n",
    "                f.write(line)\n",
    "            print(name, 'added to contacts')\n",
    "        else:\n",
    "            print('Invalid Phone number or mail_id')\n",
    "    else:\n",
    "        print(name, 'already exits')\n",
    "    return\n",
    "\n",
    "import re\n",
    "#function to check if contact already exits\n",
    "def check_contact(name):\n",
    "    filename = 'DataFiles/contacts.txt'\n",
    "    with open(filename, 'r') as f:\n",
    "        filedata= f.read()\n",
    "        pattern = name+','\n",
    "    \n",
    "    return re.search(pattern, filedata)\n",
    "\n",
    "    if check_contact(\"Name1\"):\n",
    "        print(\"True\")\n",
    "    else:\n",
    "        print(\"False\")\n",
    "\n",
    "addcontact('name3', 9876654345, 'name3_asdfv@gmail.com')"
   ]
  },
  {
   "cell_type": "code",
   "execution_count": null,
   "metadata": {},
   "outputs": [],
   "source": []
  },
  {
   "cell_type": "code",
   "execution_count": 65,
   "metadata": {},
   "outputs": [
    {
     "data": {
      "text/plain": [
       "'name1 ,9876543543 ,asdfghsdf@sdfgsd.com\\nname2 ,9876678977 ,name2_asdfv@gmail.com\\nname2 ,9876654345 ,name3_asdfv@gmail.com\\nname3 ,9876654345 ,name3_asdfv@gmail.com\\n'"
      ]
     },
     "execution_count": 65,
     "metadata": {},
     "output_type": "execute_result"
    }
   ],
   "source": [
    "# Function to convert the csv file to list format\n",
    "filename = 'DataFiles/contacts.txt'    \n",
    "def csvTolist(filename):\n",
    "    li=[]\n",
    "    with open(filename, 'r') as f:\n",
    "        for line in f:\n",
    "            li.append(line.split(','))\n",
    "    return li\n",
    "\n",
    "#Function to Convert list to string file\n",
    "def listToFile(li):\n",
    "    s=''\n",
    "    for i in li:\n",
    "        s += ','.join(i)\n",
    "    return s\n",
    "\n",
    "li = csvTolist(filename)\n",
    "listToFile(li)"
   ]
  },
  {
   "cell_type": "code",
   "execution_count": null,
   "metadata": {},
   "outputs": [],
   "source": []
  },
  {
   "cell_type": "code",
   "execution_count": 67,
   "metadata": {},
   "outputs": [
    {
     "name": "stdout",
     "output_type": "stream",
     "text": [
      "name2 ,9876678977 ,name2_asdfv@gmail.com\n",
      "\n",
      "name2 ,9876654345 ,name3_asdfv@gmail.com\n",
      "\n"
     ]
    }
   ],
   "source": [
    "# Function to search for contact\n",
    "\n",
    "def searchForContact(name):\n",
    "    fl = csvTolist(filename)\n",
    "    for line in fl:\n",
    "        flag = 0\n",
    "        if name in line[0]:\n",
    "            flag =1\n",
    "            print(\",\".join(line))\n",
    "    return\n",
    "searchForContact(\"name2\")"
   ]
  },
  {
   "cell_type": "code",
   "execution_count": 73,
   "metadata": {},
   "outputs": [
    {
     "data": {
      "text/plain": [
       "2"
      ]
     },
     "execution_count": 73,
     "metadata": {},
     "output_type": "execute_result"
    }
   ],
   "source": [
    "# Function to search contact with return\n",
    "\n",
    "def searchwithReturn(fname,name):\n",
    "    fl = csvTolist(filename)\n",
    "    \n",
    "    for i in range(len(fl)):\n",
    "        flag = 0\n",
    "        if name == fl[i][0]:\n",
    "            flag =1\n",
    "            ind = i\n",
    "            \n",
    "    if flag ==0:\n",
    "        return -1\n",
    "    else:\n",
    "        return i\n",
    "\n",
    "searchwithReturn(\"DataFiles/Contacts.txt\",\"name2 \")"
   ]
  },
  {
   "cell_type": "code",
   "execution_count": 74,
   "metadata": {},
   "outputs": [],
   "source": [
    "# Function to delete a contact in file\n",
    "\n",
    "def removeContact(fname, name):\n",
    "    i = searchwithReturn(fname, name)\n",
    "    if i!=1:\n",
    "        fl = csvTolist(fname)\n",
    "        fl.pop(i)\n",
    "        s = listToFile(fl)\n",
    "        with open(fname,'w') as f:\n",
    "            f.write(s)\n",
    "    else:\n",
    "        print(\"contact not found to remove\")\n",
    "        \n",
    "removeContact(\"DataFiles/Contacts.txt\", \"name2\")"
   ]
  },
  {
   "cell_type": "code",
   "execution_count": null,
   "metadata": {},
   "outputs": [],
   "source": [
    "# Function to Update a contact in file\n",
    "\n",
    "def updateContact(fname, name):\n",
    "    "
   ]
  }
 ],
 "metadata": {
  "kernelspec": {
   "display_name": "Python 3",
   "language": "python",
   "name": "python3"
  },
  "language_info": {
   "codemirror_mode": {
    "name": "ipython",
    "version": 3
   },
   "file_extension": ".py",
   "mimetype": "text/x-python",
   "name": "python",
   "nbconvert_exporter": "python",
   "pygments_lexer": "ipython3",
   "version": "3.7.3"
  }
 },
 "nbformat": 4,
 "nbformat_minor": 2
}
