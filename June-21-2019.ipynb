{
 "cells": [
  {
   "cell_type": "markdown",
   "metadata": {},
   "source": [
    "## Cipher (HackerEarth)\n",
    "\n",
    "Indian army is going to do a surprise attack on one of its enemies country. The President of India, the Supreme Commander of the Indian Army will be sending an alert message to all its commanding centers. As enemy would be monitoring the message, Indian army is going to encrypt(cipher) the message using basic encryption technique. A decoding key 'K' (number) would be sent secretly.\n",
    "\n",
    "You are assigned to develop a cipher program to encrypt the message. Your cipher must rotate every character in the message by a fixed number making it unreadable by enemies.\n",
    "\n",
    "Given a single line of string 'S' containing alpha, numeric and symbols, followed by a number '0<=N<=1000'. Encrypt and print the resulting string.\n",
    "\n",
    "Note: The cipher only encrypts Alpha and Numeric. (A-Z, a-z, and 0-9) . All Symbols, such as - , ; %, remain unencrypted."
   ]
  },
  {
   "cell_type": "code",
   "execution_count": null,
   "metadata": {},
   "outputs": [],
   "source": []
  },
  {
   "cell_type": "code",
   "execution_count": null,
   "metadata": {},
   "outputs": [],
   "source": []
  },
  {
   "cell_type": "code",
   "execution_count": 3,
   "metadata": {},
   "outputs": [
    {
     "name": "stdout",
     "output_type": "stream",
     "text": [
      "All-convoYs-9-be:Alert1.\n",
      "4\n",
      "Epp-gsrzsCw-3-fi:Epivx5.\n"
     ]
    }
   ],
   "source": [
    "def cipher(s,k):\n",
    "    new=\"\"\n",
    "    char=k%26\n",
    "    num=k%10\n",
    "    for i in s:\n",
    "        if i.islower():\n",
    "            if ord(i)+char<=122:\n",
    "                new=new + chr(ord(i)+char)\n",
    "            elif ord(i)+char>122:\n",
    "                z=ord(i)+char-122\n",
    "                new = new + chr(z+96)\n",
    "        elif i.isupper():\n",
    "            if ord(i)+char<=90:\n",
    "                new = new + chr(ord(i)+char)\n",
    "            elif ord(i)+char>90:\n",
    "                z=ord(i)+char-90\n",
    "                new = new + chr(z+64)\n",
    "        elif i.isdigit():\n",
    "            if(ord(i)>=48 and ord(i)<=57):\n",
    "                if ord(i)+num<=57:\n",
    "                    new = new + chr((ord(i)+num))\n",
    "                elif ord(i)+num>57:\n",
    "                    z=ord(i)+num-57\n",
    "                    new = new+ chr(z+47)\n",
    "        else:\n",
    "            new=new+i\n",
    "    print(new)\n",
    "            \n",
    "    \n",
    "string = input()\n",
    "key = int(input())\n",
    "cipher(string,key)"
   ]
  },
  {
   "cell_type": "code",
   "execution_count": 78,
   "metadata": {},
   "outputs": [
    {
     "data": {
      "text/plain": [
       "18"
      ]
     },
     "execution_count": 78,
     "metadata": {},
     "output_type": "execute_result"
    }
   ],
   "source": [
    "200%26"
   ]
  },
  {
   "cell_type": "code",
   "execution_count": 77,
   "metadata": {},
   "outputs": [
    {
     "data": {
      "text/plain": [
       "'s'"
      ]
     },
     "execution_count": 77,
     "metadata": {},
     "output_type": "execute_result"
    }
   ],
   "source": [
    "chr(115)"
   ]
  },
  {
   "cell_type": "code",
   "execution_count": 15,
   "metadata": {},
   "outputs": [
    {
     "name": "stdout",
     "output_type": "stream",
     "text": [
      "All-convoYs-9-be:Alert1.\n",
      "4\n",
      "Epp-gsrzs]w-=-fi:Epivx5.\n"
     ]
    }
   ],
   "source": [
    "def cipher(s,k):\n",
    "    new=\"\"\n",
    "    for i in s:\n",
    "        if i.isdigit():\n",
    "            num = chr(ord(i)+k)\n",
    "            new = new + num\n",
    "        elif i.isalpha():\n",
    "            asci=chr(ord(i)+k)\n",
    "            new=new+asci \n",
    "        else:\n",
    "            new = new+i\n",
    "    print(new)          \n",
    "    \n",
    "string = input()\n",
    "key = int(input())\n",
    "cipher(string,key)"
   ]
  },
  {
   "cell_type": "code",
   "execution_count": null,
   "metadata": {},
   "outputs": [],
   "source": []
  },
  {
   "cell_type": "code",
   "execution_count": null,
   "metadata": {},
   "outputs": [],
   "source": []
  },
  {
   "cell_type": "code",
   "execution_count": 4,
   "metadata": {},
   "outputs": [
    {
     "data": {
      "text/plain": [
       "90"
      ]
     },
     "execution_count": 4,
     "metadata": {},
     "output_type": "execute_result"
    }
   ],
   "source": [
    "ord('Z')"
   ]
  },
  {
   "cell_type": "code",
   "execution_count": 54,
   "metadata": {},
   "outputs": [
    {
     "data": {
      "text/plain": [
       "51"
      ]
     },
     "execution_count": 54,
     "metadata": {},
     "output_type": "execute_result"
    }
   ],
   "source": [
    "61-57+47"
   ]
  },
  {
   "cell_type": "code",
   "execution_count": 53,
   "metadata": {},
   "outputs": [
    {
     "data": {
      "text/plain": [
       "'3'"
      ]
     },
     "execution_count": 53,
     "metadata": {},
     "output_type": "execute_result"
    }
   ],
   "source": [
    "chr(51)"
   ]
  },
  {
   "cell_type": "code",
   "execution_count": null,
   "metadata": {},
   "outputs": [],
   "source": []
  },
  {
   "cell_type": "markdown",
   "metadata": {},
   "source": [
    "# File handing using regular Expressions (class)"
   ]
  },
  {
   "cell_type": "code",
   "execution_count": 23,
   "metadata": {},
   "outputs": [
    {
     "name": "stdout",
     "output_type": "stream",
     "text": [
      "name2 added to contacts\n"
     ]
    }
   ],
   "source": [
    "#Function to add contacts text file using packages\n",
    "\n",
    "from PACKAGES.Validations import phoneNumberValidater as checkphn\n",
    "from PACKAGES.Validations import emailValidater as checkemail\n",
    "\n",
    "def addcontact(name, phone, email):\n",
    "    #store data as name, phone, email in the contact\n",
    "    filename = 'DataFiles/Contacts.txt'\n",
    "    if not check_contact(name):\n",
    "        if checkphn(phone) and checkemail(email):\n",
    "            with open(filename, 'a') as f:\n",
    "                line = name + ' ,' +str(phone)+ ' ,' +email+ '\\n'\n",
    "                f.write(line)\n",
    "            print(name, 'added to contacts')\n",
    "        else:\n",
    "            print('Invalid Phone number or mail_id')\n",
    "    else:\n",
    "        print(name, 'already exits')\n",
    "    return\n",
    "\n",
    "import re\n",
    "#function to check if contact already exits\n",
    "def check_contact(name):\n",
    "    filename = 'DataFiles/contacts.txt'\n",
    "    with open(filename, 'r') as f:\n",
    "        filedata= f.read()\n",
    "        pattern = name+','\n",
    "    \n",
    "    return re.search(pattern, filedata)\n",
    "\n",
    "    if check_contact(\"Name1\"):\n",
    "        print(\"True\")\n",
    "    else:\n",
    "        print(\"False\")\n",
    "\n",
    "addcontact('name2', 9876654236, 'name2_asdfv@gmail.com')"
   ]
  },
  {
   "cell_type": "code",
   "execution_count": null,
   "metadata": {},
   "outputs": [],
   "source": []
  },
  {
   "cell_type": "code",
   "execution_count": 13,
   "metadata": {},
   "outputs": [
    {
     "data": {
      "text/plain": [
       "'name1 ,9876543543 ,asdfghsdf@sdfgsd.com\\nname2 ,9876678977 ,name2_asdfv@gmail.com\\nname3 ,9876654345 ,name3_asdfv@gmail.com\\n'"
      ]
     },
     "execution_count": 13,
     "metadata": {},
     "output_type": "execute_result"
    }
   ],
   "source": [
    "# Function to convert the csv file to list format\n",
    "filename = 'DataFiles/contacts.txt'    \n",
    "def csvTolist(filename):\n",
    "    li=[]\n",
    "    with open(filename, 'r') as f:\n",
    "        for line in f:\n",
    "            li.append(line.split(','))\n",
    "    return li\n",
    "\n",
    "#Function to Convert list to string file\n",
    "def listToFile(li):\n",
    "    s=''\n",
    "    for i in li:\n",
    "        s += ','.join(i)\n",
    "    return s\n",
    "\n",
    "li = csvTolist(filename)\n",
    "listToFile(li)"
   ]
  },
  {
   "cell_type": "code",
   "execution_count": null,
   "metadata": {},
   "outputs": [],
   "source": []
  },
  {
   "cell_type": "code",
   "execution_count": 14,
   "metadata": {},
   "outputs": [
    {
     "name": "stdout",
     "output_type": "stream",
     "text": [
      "name2 ,9876678977 ,name2_asdfv@gmail.com\n",
      "\n"
     ]
    }
   ],
   "source": [
    "# Function to search for contact\n",
    "\n",
    "def searchForContact(name):\n",
    "    fl = csvTolist(filename)\n",
    "    for line in fl:\n",
    "        flag = 0\n",
    "        if name in line[0]:\n",
    "            flag =1\n",
    "            print(\",\".join(line))\n",
    "    return\n",
    "searchForContact(\"name2\")"
   ]
  },
  {
   "cell_type": "code",
   "execution_count": 20,
   "metadata": {},
   "outputs": [
    {
     "data": {
      "text/plain": [
       "1"
      ]
     },
     "execution_count": 20,
     "metadata": {},
     "output_type": "execute_result"
    }
   ],
   "source": [
    "# Function to search contact with return\n",
    "\n",
    "def searchwithreturn(filename,name):\n",
    "    f1=csvTolist(filename)\n",
    "    flag=0\n",
    "    for i in range (len(f1)):\n",
    "        if name==f1[i][0]:\n",
    "            flag=1\n",
    "            return i\n",
    "    if flag==0:\n",
    "        return -1\n",
    "\n",
    "searchwithreturn(\"DataFiles/Contacts.txt\",\"name2 \")"
   ]
  },
  {
   "cell_type": "code",
   "execution_count": 21,
   "metadata": {},
   "outputs": [],
   "source": [
    "# Function to delete a contact in file\n",
    "\n",
    "def removeContact(fname, name):\n",
    "    i = searchwithreturn(fname, name)\n",
    "    if i!=1:\n",
    "        fl = csvTolist(fname)\n",
    "        fl.pop(i)\n",
    "        s = listToFile(fl)\n",
    "        with open(fname,'w') as f:\n",
    "            f.write(s)\n",
    "    else:\n",
    "        print(\"contact not found to remove\")\n",
    "        \n",
    "removeContact(\"DataFiles/Contacts.txt\", \"name2\")"
   ]
  },
  {
   "cell_type": "code",
   "execution_count": 25,
   "metadata": {},
   "outputs": [
    {
     "name": "stdout",
     "output_type": "stream",
     "text": [
      "phone no updated\n"
     ]
    }
   ],
   "source": [
    "# Function to Update a contact in file\n",
    "\n",
    "def updatecontact(filename,name,f,value):\n",
    "    if(searchwithretrun(filename,name)>=0):\n",
    "        i=searchwithretrun(filename,name)\n",
    "        if((int(f)==0)):\n",
    "            f1=csvTolist(filename)\n",
    "            f1[i].pop(0)\n",
    "            f1[i].insert(0,value)\n",
    "            s=listToFile(f1)\n",
    "            with open(filename,'w')as f:\n",
    "                f.write(s)\n",
    "                print(\"name updated\")\n",
    "        \n",
    "        elif((int(f))==1):\n",
    "            f1=csvTolist(filename)\n",
    "            f1[i].pop(1)\n",
    "            f1[i].insert(1,value)\n",
    "            s=listToFile(f1)\n",
    "            with open(filename,'w')as f:\n",
    "                f.write(s)\n",
    "                print(\"phone no updated\")\n",
    "        elif((int(f))==2):\n",
    "            f1=csvTolist(filename)\n",
    "            f1[i].pop(2)\n",
    "            f1[i].insert(2,value)\n",
    "            s=listToFile(f1)\n",
    "            with open(filename,'w')as f:\n",
    "                f.write(s)\n",
    "                print(\"email updated\")\n",
    "    else:\n",
    "        print(\"contact not found\")\n",
    "        \n",
    "updatecontact(filename,\"name2 \",\"1\",\"9550324094\")"
   ]
  },
  {
   "cell_type": "code",
   "execution_count": null,
   "metadata": {},
   "outputs": [],
   "source": []
  }
 ],
 "metadata": {
  "kernelspec": {
   "display_name": "Python 3",
   "language": "python",
   "name": "python3"
  },
  "language_info": {
   "codemirror_mode": {
    "name": "ipython",
    "version": 3
   },
   "file_extension": ".py",
   "mimetype": "text/x-python",
   "name": "python",
   "nbconvert_exporter": "python",
   "pygments_lexer": "ipython3",
   "version": "3.7.3"
  }
 },
 "nbformat": 4,
 "nbformat_minor": 2
}
