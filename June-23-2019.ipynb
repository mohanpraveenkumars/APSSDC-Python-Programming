{
 "cells": [
  {
   "cell_type": "markdown",
   "metadata": {},
   "source": [
    "## Akash Sir's Class"
   ]
  },
  {
   "cell_type": "code",
   "execution_count": 4,
   "metadata": {},
   "outputs": [
    {
     "name": "stdout",
     "output_type": "stream",
     "text": [
      "7\n"
     ]
    }
   ],
   "source": [
    "# Function to print unique word count\n",
    "\n",
    "def uniqueword_count(filepath):\n",
    "    with open(filepath,'r') as f:\n",
    "        filedata = f.read()\n",
    "        words=filedata.split()\n",
    "        unique_words=set(words)\n",
    "        return len(list(unique_words))    \n",
    "print(uniqueword_count(\"book.txt\"))"
   ]
  },
  {
   "cell_type": "code",
   "execution_count": 5,
   "metadata": {},
   "outputs": [
    {
     "name": "stdout",
     "output_type": "stream",
     "text": [
      "['one', 'I', 'ones', 'favourite', 'hi', 'am', 'every']\n"
     ]
    }
   ],
   "source": [
    "# Function to print Unique words in file\n",
    "\n",
    "def uniqueword(filepath):\n",
    "    with open(filepath,'r') as f:\n",
    "        filedata = f.read()\n",
    "        words=filedata.split()\n",
    "        unique_words=set(words)\n",
    "        return (list(unique_words))    \n",
    "print(uniqueword(\"book.txt\"))"
   ]
  },
  {
   "cell_type": "code",
   "execution_count": 11,
   "metadata": {},
   "outputs": [
    {
     "data": {
      "text/plain": [
       "{'4': 2, '1': 4, '6': 1, '5': 2, '3': 3, '2': 4}"
      ]
     },
     "execution_count": 11,
     "metadata": {},
     "output_type": "execute_result"
    }
   ],
   "source": [
    "# Function to print the frequency count of a file\n",
    "# Frequency Distribution\n",
    "\n",
    "def frequencycount(filepath):\n",
    "    d = {}\n",
    "    with open(filepath,\"r\") as f:\n",
    "        filedata = f.read()\n",
    "        words = filedata.split()\n",
    "        unique_words = set(words)\n",
    "        for i in unique_words:\n",
    "            d[i]=filedata.count(i)\n",
    "        return d\n",
    "frequencycount(\"book.txt\")"
   ]
  },
  {
   "cell_type": "code",
   "execution_count": 10,
   "metadata": {},
   "outputs": [],
   "source": [
    "# Contacts Application\n",
    "\n",
    "#Find and replace Application\n"
   ]
  },
  {
   "cell_type": "code",
   "execution_count": null,
   "metadata": {},
   "outputs": [],
   "source": []
  },
  {
   "cell_type": "code",
   "execution_count": null,
   "metadata": {},
   "outputs": [],
   "source": []
  },
  {
   "cell_type": "code",
   "execution_count": null,
   "metadata": {},
   "outputs": [],
   "source": []
  },
  {
   "cell_type": "code",
   "execution_count": null,
   "metadata": {},
   "outputs": [],
   "source": []
  },
  {
   "cell_type": "code",
   "execution_count": null,
   "metadata": {},
   "outputs": [],
   "source": []
  },
  {
   "cell_type": "code",
   "execution_count": null,
   "metadata": {},
   "outputs": [],
   "source": []
  },
  {
   "cell_type": "code",
   "execution_count": null,
   "metadata": {},
   "outputs": [],
   "source": []
  },
  {
   "cell_type": "code",
   "execution_count": null,
   "metadata": {},
   "outputs": [],
   "source": []
  },
  {
   "cell_type": "code",
   "execution_count": null,
   "metadata": {},
   "outputs": [],
   "source": []
  },
  {
   "cell_type": "code",
   "execution_count": null,
   "metadata": {},
   "outputs": [],
   "source": []
  },
  {
   "cell_type": "markdown",
   "metadata": {},
   "source": [
    "# HackerEarth Problems"
   ]
  },
  {
   "cell_type": "markdown",
   "metadata": {},
   "source": [
    "### Cost of Baloons\n",
    "\n",
    "You are conducting a contest at your college. This contest consists of two problems and  participants. You know the problem that a candidate will solve during the contest.\n",
    "\n",
    "You provide a balloon to a participant after he or she solves a problem. There are only green and purple-colored balloons available in a market. Each problem must have a balloon associated with it as a prize for solving that specific problem. You can distribute balloons to each participant by performing the following operation:\n",
    "\n",
    "Use green-colored balloons for the first problem and purple-colored balloons for the second problem\n",
    "Use purple-colored balloons for the first problem and green-colored balloons for the second problem\n",
    "You are given the cost of each balloon and problems that each participant solve. Your task is to print the minimum price that you have to pay while purchasing balloons.\n",
    "\n",
    "Input format\n",
    "\n",
    "First line:  that denotes the number of test cases ()\n",
    "For each test case: \n",
    "First line: Cost of green and purple-colored balloons \n",
    "Second line:  that denotes the number of participants ()\n",
    "Next  lines: Contain the status of users. For example, if the value of the  integer in the  row is , then it depicts that the  participant has not solved the  problem. Similarly, if the value of the  integer in the  row is , then it depicts that the  participant has solved the  problem.\n",
    "Output format\n",
    "For each test case, print the minimum cost that you have to pay to purchase balloons."
   ]
  },
  {
   "cell_type": "code",
   "execution_count": 11,
   "metadata": {},
   "outputs": [
    {
     "ename": "SyntaxError",
     "evalue": "invalid syntax (<ipython-input-11-4dcedf39b647>, line 16)",
     "output_type": "error",
     "traceback": [
      "\u001b[1;36m  File \u001b[1;32m\"<ipython-input-11-4dcedf39b647>\"\u001b[1;36m, line \u001b[1;32m16\u001b[0m\n\u001b[1;33m    if count1 < count 2:\u001b[0m\n\u001b[1;37m                      ^\u001b[0m\n\u001b[1;31mSyntaxError\u001b[0m\u001b[1;31m:\u001b[0m invalid syntax\n"
     ]
    }
   ],
   "source": [
    "def costofbaloons(n):\n",
    "    count1 = 0\n",
    "    count2 = 0\n",
    "    for i in range(n):\n",
    "        problems = input().split()\n",
    "        p1 = int(problems[0])\n",
    "        p2 = int(problems[1])\n",
    "        \n",
    "        if p1 == 1 and p2 ==1:\n",
    "            count1+=(p1*gbc)\n",
    "            count2+=(p2*pbc)\n",
    "        elif p1 ==1 and p2 ==0:\n",
    "            count1+=(p1*gbc)\n",
    "        elif p1 ==0 and p2 ==1:\n",
    "            count2+=(p2*pbc)\n",
    "    if count1 < count 2:\n",
    "        \n",
    "    total = count1+count2\n",
    "    print(total)\n",
    "            \n",
    "    \n",
    "Test_cases= int(input())\n",
    "for i in range(Test_cases):\n",
    "    cost = input().split()\n",
    "    gbc = int(cost[0])\n",
    "    pbc = int(cost[1])\n",
    "    if gbc < pbc\n",
    "        gbc,pbc = pbc,gbc\n",
    "    students=int(input())\n",
    "    costofbaloons(students)"
   ]
  },
  {
   "cell_type": "markdown",
   "metadata": {},
   "source": [
    "### Ladderophilia\n",
    "\n",
    "Aditya is fond of ladders. Everyday he goes through pictures of ladders online but unfortunately today he ran out of ladder pictures online. Write a program to print “ladder with N steps”, which he can use to get his daily dose of ladder love.\n",
    "\n",
    "INPUT:\n",
    "Input contains integer N, the number of steps in the ladder\n",
    "\n",
    "OUTPUT:\n",
    "\n",
    "Print the ladder with the gap between two side rails being 3 spaces(“   “).\n",
    "\n",
    "Check the sample output for format of printing the ladder."
   ]
  },
  {
   "cell_type": "code",
   "execution_count": 3,
   "metadata": {},
   "outputs": [
    {
     "name": "stdout",
     "output_type": "stream",
     "text": [
      "4\n",
      "*   *\n",
      "\n",
      "*   *\n",
      "\n",
      "*****\n",
      "\n",
      "*   *\n",
      "\n",
      "*   *\n",
      "\n",
      "*****\n",
      "\n",
      "*   *\n",
      "\n",
      "*   *\n",
      "\n",
      "*****\n",
      "\n",
      "*   *\n",
      "\n",
      "*   *\n",
      "\n",
      "*****\n",
      "\n",
      "*   *\n",
      "\n",
      "*   *\n",
      "\n"
     ]
    }
   ],
   "source": [
    "def ladder(steps):\n",
    "    for i in range(steps):\n",
    "        print(\"*   *\\n\")\n",
    "        print(\"*   *\\n\")\n",
    "        print(\"*****\\n\")\n",
    "    print(\"*   *\\n\")\n",
    "    print(\"*   *\\n\")\n",
    "\n",
    "steps = int(input())\n",
    "ladder(steps)"
   ]
  },
  {
   "cell_type": "code",
   "execution_count": null,
   "metadata": {},
   "outputs": [],
   "source": []
  }
 ],
 "metadata": {
  "kernelspec": {
   "display_name": "Python 3",
   "language": "python",
   "name": "python3"
  },
  "language_info": {
   "codemirror_mode": {
    "name": "ipython",
    "version": 3
   },
   "file_extension": ".py",
   "mimetype": "text/x-python",
   "name": "python",
   "nbconvert_exporter": "python",
   "pygments_lexer": "ipython3",
   "version": "3.7.3"
  }
 },
 "nbformat": 4,
 "nbformat_minor": 2
}
