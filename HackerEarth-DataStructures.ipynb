{
 "cells": [
  {
   "cell_type": "code",
   "execution_count": 19,
   "metadata": {},
   "outputs": [
    {
     "data": {
      "text/plain": [
       "4"
      ]
     },
     "execution_count": 19,
     "metadata": {},
     "output_type": "execute_result"
    }
   ],
   "source": [
    "data = '4312'\n",
    "data_sorted = list(map(int,sorted(data)))\n",
    "data_sorted[-1]"
   ]
  },
  {
   "cell_type": "markdown",
   "metadata": {},
   "source": [
    "## Jarvis"
   ]
  },
  {
   "cell_type": "code",
   "execution_count": 27,
   "metadata": {},
   "outputs": [
    {
     "name": "stdout",
     "output_type": "stream",
     "text": [
      "2\n",
      "4321\n",
      "YES\n",
      "5421\n",
      "NO\n"
     ]
    }
   ],
   "source": [
    "def Jarvis(data):\n",
    "    data_sorted = list(map(int,sorted(data)))\n",
    "    count=0\n",
    "    maximum = max(data_sorted)\n",
    "    for i in range(maximum+1):\n",
    "        if str(i) in data:\n",
    "            count+=1\n",
    "        else:\n",
    "            count = 0\n",
    "    if count == len(data):\n",
    "        print('YES')\n",
    "    else:\n",
    "        print('NO')\n",
    "        \n",
    "for i in range(int(input())):\n",
    "    data = input()\n",
    "    Jarvis(data)"
   ]
  },
  {
   "cell_type": "markdown",
   "metadata": {},
   "source": [
    "## Hamiltonian and Lagrangian\n"
   ]
  },
  {
   "cell_type": "code",
   "execution_count": 6,
   "metadata": {},
   "outputs": [
    {
     "name": "stdout",
     "output_type": "stream",
     "text": [
      "6\n",
      "16 17 4 3 5 2\n"
     ]
    }
   ],
   "source": [
    "def HL(data):\n",
    "    for idx in range(r):\n",
    "        flag = True\n",
    "        for j in range(idx+1, r):\n",
    "            if data[idx]<data[j]:\n",
    "                flag = False\n",
    "                break\n",
    "        if flag:\n",
    "            print(data[idx], end=\" \")\n",
    "    \n",
    "r = int(input())\n",
    "data = list(map(int, input().split()))\n",
    "HL(data)"
   ]
  },
  {
   "cell_type": "code",
   "execution_count": null,
   "metadata": {},
   "outputs": [],
   "source": []
  }
 ],
 "metadata": {
  "kernelspec": {
   "display_name": "Python 3",
   "language": "python",
   "name": "python3"
  },
  "language_info": {
   "codemirror_mode": {
    "name": "ipython",
    "version": 3
   },
   "file_extension": ".py",
   "mimetype": "text/x-python",
   "name": "python",
   "nbconvert_exporter": "python",
   "pygments_lexer": "ipython3",
   "version": "3.7.3"
  }
 },
 "nbformat": 4,
 "nbformat_minor": 2
}
