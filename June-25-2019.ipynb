{
 "cells": [
  {
   "cell_type": "markdown",
   "metadata": {},
   "source": [
    "### Digit Frequency"
   ]
  },
  {
   "cell_type": "code",
   "execution_count": 10,
   "metadata": {},
   "outputs": [
    {
     "name": "stdout",
     "output_type": "stream",
     "text": [
      "0\n",
      "1 0 0 0 0 0 0 0 0 0 "
     ]
    }
   ],
   "source": [
    "#Function to implement the digits Frequency using count function\n",
    " \n",
    "def digits_frequency(data):\n",
    "    d=[]\n",
    "    for i in data:\n",
    "        if i.isdigit():\n",
    "            d.append(i)\n",
    "        for i in range(0,10):\n",
    "            print(d.count(str(i)), end=\" \")\n",
    "data = input()\n",
    "digits_frequency(data)"
   ]
  },
  {
   "cell_type": "code",
   "execution_count": null,
   "metadata": {},
   "outputs": [],
   "source": []
  },
  {
   "cell_type": "code",
   "execution_count": 20,
   "metadata": {},
   "outputs": [
    {
     "name": "stdout",
     "output_type": "stream",
     "text": [
      "jhbgh3454323453234\n",
      "0 0 2 5 4 2 0 0 0 0 "
     ]
    }
   ],
   "source": [
    "# Function to implement the digit frequency without using count function\n",
    "\n",
    "\n",
    "def uniquedata(allnumbers):\n",
    "    unique=[]\n",
    "    for n in allnumbers:\n",
    "        if n not in unique:\n",
    "            unique.append(n)\n",
    "    return unique\n",
    "\n",
    "def digits_frequency1(data):\n",
    "    allnumbers=[]\n",
    "    for i in data:\n",
    "        if i.isdigit():\n",
    "            allnumbers.append(i)\n",
    "    unique = uniquedata(allnumbers)\n",
    "    for j in range(0,10):\n",
    "        if str(j) not in unique:\n",
    "            print(0, end=\" \")\n",
    "        else:\n",
    "            count = allnumbers.count(str(j))\n",
    "            print(count, end=\" \")\n",
    "            \n",
    "    \n",
    "data = input()\n",
    "digits_frequency1(data)"
   ]
  },
  {
   "cell_type": "code",
   "execution_count": null,
   "metadata": {},
   "outputs": [],
   "source": []
  },
  {
   "cell_type": "code",
   "execution_count": 21,
   "metadata": {},
   "outputs": [
    {
     "name": "stdout",
     "output_type": "stream",
     "text": [
      "nijnijok21345432\n",
      "0 1 2 2 2 1 0 0 0 0 "
     ]
    }
   ],
   "source": [
    "def digit_frequency2(data):\n",
    "    for i in range(0,10):\n",
    "        count = data.count(str(i))\n",
    "        print(count, end=\" \")\n",
    "\n",
    "data = input()\n",
    "digit_frequency2(data)"
   ]
  },
  {
   "cell_type": "code",
   "execution_count": null,
   "metadata": {},
   "outputs": [],
   "source": []
  },
  {
   "cell_type": "code",
   "execution_count": 1,
   "metadata": {},
   "outputs": [
    {
     "data": {
      "text/plain": [
       "0"
      ]
     },
     "execution_count": 1,
     "metadata": {},
     "output_type": "execute_result"
    }
   ],
   "source": [
    "\n",
    "# Function to check if two strings are Anagrams\n",
    "# abc cba -> True\n",
    "# {a:1, b:1, c:1} {c:1, a:1, b:1} \n",
    "# aabbcc ccbbaaa -> False\n",
    "# aabbcc aaabbcc \n",
    "# abc\n",
    "# {a:2, b:2, c:2} {a:3, b:2, c:2}\n",
    "\n",
    "\n",
    "def checkAnagrams(s1, s2):\n",
    "    if len(s1) != len(s2):\n",
    "        return False\n",
    "    if sorted(s1) == sorted(s2):\n",
    "        return True\n",
    "    return False\n",
    "\n",
    "\n",
    "def charDeletionsAnagrams(s1, s2):\n",
    "    # to collect all uncommon characters - characters occurring in only one string\n",
    "    uncommon = []\n",
    "    for i in s1:\n",
    "        if i not in s2:\n",
    "            uncommon.append(i)\n",
    "    for i in s2:\n",
    "        if i not in s1:\n",
    "            uncommon.append(i)\n",
    "    count = len(uncommon)\n",
    "    # freqs1 -> Frequency of common characters in s1\n",
    "    freqs1 = {}\n",
    "    freqs2 = {}\n",
    "    # Unique characters in s1 and s2\n",
    "    uniqs1 = []\n",
    "    uniqs2 = []\n",
    "    # Frequency of common unique characters in s1\n",
    "    for i in s1:\n",
    "        if i not in uncommon and i not in uniqs1:\n",
    "            freqs1[i] = s1.count(i)\n",
    "            uniqs1.append(i)\n",
    "    # Frequency of common unique characters in s2\n",
    "    for i in s2:\n",
    "        if i not in uncommon and i not in uniqs2:\n",
    "            freqs2[i] = s2.count(i)\n",
    "            uniqs2.append(i)\n",
    "    # Difference in frequencies for common characters\n",
    "    for key in freqs1.keys():\n",
    "        count += abs(freqs1[key] - freqs2[key])\n",
    "    return count\n",
    "\n",
    "charDeletionsAnagrams('abc', 'bca')"
   ]
  },
  {
   "cell_type": "markdown",
   "metadata": {},
   "source": [
    "## Todays Practise exam answers"
   ]
  },
  {
   "cell_type": "code",
   "execution_count": 13,
   "metadata": {},
   "outputs": [
    {
     "data": {
      "text/plain": [
       "'b'"
      ]
     },
     "execution_count": 13,
     "metadata": {},
     "output_type": "execute_result"
    }
   ],
   "source": [
    "# easy problem answer\n",
    "\n",
    "def kLargestFrequency(s,k):\n",
    "    # construct the frequency dictionary for all unique characters\n",
    "    #unique = []\n",
    "    freq = {}\n",
    "    for i in s:\n",
    "        if i not in freq.keys():\n",
    "            freq[i]= s.count(i)\n",
    "    # Extract unique frequencies in descending order\n",
    "    values = sorted(freq.values(), reverse=True)\n",
    "    unique_values = list(set(values))\n",
    "    unique_values = sorted(unique_values, reverse=True)\n",
    "    # comparing for Kth largest frequency of the dict\n",
    "    if k <= len(freq.keys()):\n",
    "        kvalue = unique_values[k-1]\n",
    "    else:\n",
    "        return -1\n",
    "    \n",
    "    #Get all elements with Kth largest frequency\n",
    "    li=[]\n",
    "    for item in freq.items():\n",
    "        if item[1] == kvalue:\n",
    "            li.append(item[0])\n",
    "    # minimum of Kth largest Frequency\n",
    "    return min(li)\n",
    "\n",
    "kLargestFrequency('aabcccd', 3)"
   ]
  },
  {
   "cell_type": "code",
   "execution_count": null,
   "metadata": {},
   "outputs": [],
   "source": []
  },
  {
   "cell_type": "code",
   "execution_count": null,
   "metadata": {},
   "outputs": [],
   "source": []
  }
 ],
 "metadata": {
  "kernelspec": {
   "display_name": "Python 3",
   "language": "python",
   "name": "python3"
  },
  "language_info": {
   "codemirror_mode": {
    "name": "ipython",
    "version": 3
   },
   "file_extension": ".py",
   "mimetype": "text/x-python",
   "name": "python",
   "nbconvert_exporter": "python",
   "pygments_lexer": "ipython3",
   "version": "3.7.3"
  }
 },
 "nbformat": 4,
 "nbformat_minor": 2
}
