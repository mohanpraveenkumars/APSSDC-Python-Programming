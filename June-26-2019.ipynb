{
 "cells": [
  {
   "cell_type": "code",
   "execution_count": 1,
   "metadata": {},
   "outputs": [],
   "source": [
    "# all file concepts for gr=enrating data into files breating average of marks and etc';;\n",
    "# for generating random data into a file\n",
    "#Function to generate marks data for n students\n",
    "from random import randint\n",
    "def generateMarks(n,lb,ub):\n",
    "    with open('DataFiles/randomMarks.txt','w') as f:\n",
    "        for i in range(0,n):\n",
    "            r=randint(lb,ub)\n",
    "            f.write(str(r)+'\\n')\n",
    "    return\n",
    " \n",
    "generateMarks(100,1,75)"
   ]
  },
  {
   "cell_type": "code",
   "execution_count": 2,
   "metadata": {},
   "outputs": [],
   "source": [
    "filename='Datafiles/randomMarks.txt'"
   ]
  },
  {
   "cell_type": "code",
   "execution_count": 3,
   "metadata": {},
   "outputs": [],
   "source": [
    "#read data from file and store in a list\n",
    "def markslist(filename):\n",
    "    l=[]\n",
    "    with open(filename,'r') as f: #opening file and reading data and storing it into a varible s\n",
    "        s=f.read() #Reading Data from the file\n",
    "        d=s.split('\\n') #data spliting into list with removing \\n(new line)\n",
    "        for i in d:\n",
    "            l.append(int(i)) # we want interger data so we are converting it into that\n",
    "        return l \n",
    "    "
   ]
  },
  {
   "cell_type": "code",
   "execution_count": 4,
   "metadata": {},
   "outputs": [],
   "source": [
    "#class Average\n",
    "def classAverage(filename):\n",
    "    m=markslist(filename)\n",
    "    cA=sum(m)/len(m)\n",
    "    return cA\n"
   ]
  },
  {
   "cell_type": "code",
   "execution_count": 5,
   "metadata": {},
   "outputs": [
    {
     "data": {
      "text/plain": [
       "36.82"
      ]
     },
     "execution_count": 5,
     "metadata": {},
     "output_type": "execute_result"
    }
   ],
   "source": [
    "classAverage('Datafiles/randomMarks.txt')"
   ]
  },
  {
   "cell_type": "code",
   "execution_count": 6,
   "metadata": {},
   "outputs": [
    {
     "name": "stdout",
     "output_type": "stream",
     "text": [
      "75\n"
     ]
    }
   ],
   "source": [
    "# print class 1st mark\n",
    "def firstMark(filename):\n",
    "    first=markslist(filename)\n",
    "    return max(first)\n",
    "print(firstMark(filename))"
   ]
  },
  {
   "cell_type": "code",
   "execution_count": 7,
   "metadata": {},
   "outputs": [],
   "source": [
    "# pass percentage of students:\n",
    "def passPercentage(filename):\n",
    "    m=markslist(filename)\n",
    "    noofpassed=[]\n",
    "    for i in m:\n",
    "        if i>40:\n",
    "            noofpassed.append(i)\n",
    "    passpercent=(len(noofpassed)/len(m))*100\n",
    "    return passpercent\n",
    "            "
   ]
  },
  {
   "cell_type": "code",
   "execution_count": 8,
   "metadata": {},
   "outputs": [
    {
     "data": {
      "text/plain": [
       "46.0"
      ]
     },
     "execution_count": 8,
     "metadata": {},
     "output_type": "execute_result"
    }
   ],
   "source": [
    "passPercentage(filename)"
   ]
  },
  {
   "cell_type": "code",
   "execution_count": 9,
   "metadata": {},
   "outputs": [],
   "source": [
    "#fail percentage\n",
    "def failPercentage(filename):\n",
    "    m=markslist(filename)\n",
    "    nooffailed=[]\n",
    "    for i in m:\n",
    "        if i<40:\n",
    "            nooffailed.append(i)\n",
    "    failpercent=((len( nooffailed)/len(m))*100)\n",
    "    return failpercent"
   ]
  },
  {
   "cell_type": "code",
   "execution_count": 10,
   "metadata": {},
   "outputs": [
    {
     "data": {
      "text/plain": [
       "53.0"
      ]
     },
     "execution_count": 10,
     "metadata": {},
     "output_type": "execute_result"
    }
   ],
   "source": [
    "failPercentage(filename)"
   ]
  },
  {
   "cell_type": "code",
   "execution_count": 11,
   "metadata": {},
   "outputs": [
    {
     "name": "stdout",
     "output_type": "stream",
     "text": [
      "[55, 65, 46, 62, 59, 60, 55, 41, 44, 67, 45, 54, 51, 70, 75, 45, 66, 66, 60, 64, 72, 45, 70, 50, 44, 45, 63, 47, 62, 44, 61, 74, 45, 67, 48, 52, 54, 54, 59, 71, 45, 47, 41, 56, 53, 73]\n",
      "46\n"
     ]
    }
   ],
   "source": [
    "#frequency of passed fellows\n",
    "def frequencyOfPassed(filename):\n",
    "    m=markslist(filename)\n",
    "    pl=[]\n",
    "    for i in m:\n",
    "        if i>40:\n",
    "            pl.append(i)\n",
    "    return pl\n",
    "\n",
    "\n",
    "\n",
    "s=frequencyOfPassed(filename) \n",
    "print(s)\n",
    "print(len(s))\n"
   ]
  },
  {
   "cell_type": "code",
   "execution_count": 12,
   "metadata": {},
   "outputs": [
    {
     "name": "stdout",
     "output_type": "stream",
     "text": [
      "[18, 18, 3, 12, 21, 13, 19, 2, 35, 11, 11, 13, 35, 34, 12, 28, 27, 22, 3, 3, 23, 24, 7, 7, 33, 25, 22, 18, 33, 16, 34, 15, 5, 9, 35, 9, 12, 28, 6, 19, 39, 26, 15, 20, 39, 24, 8, 30, 37, 25, 27, 24, 16] 53\n"
     ]
    }
   ],
   "source": [
    "#frequency of failed fellows\n",
    "def frequencyOfFailed(filename):\n",
    "    m=markslist(filename)\n",
    "    fL=[]\n",
    "    for i in m:\n",
    "        if i<40:\n",
    "            fL.append(i)\n",
    "    return fL\n",
    "\n",
    "p=frequencyOfFailed(filename)\n",
    "print(p,len(p))"
   ]
  },
  {
   "cell_type": "code",
   "execution_count": null,
   "metadata": {},
   "outputs": [],
   "source": []
  },
  {
   "cell_type": "code",
   "execution_count": null,
   "metadata": {},
   "outputs": [],
   "source": []
  },
  {
   "cell_type": "code",
   "execution_count": null,
   "metadata": {},
   "outputs": [],
   "source": []
  },
  {
   "cell_type": "code",
   "execution_count": null,
   "metadata": {},
   "outputs": [],
   "source": []
  },
  {
   "cell_type": "code",
   "execution_count": 14,
   "metadata": {},
   "outputs": [
    {
     "data": {
      "text/plain": [
       "8"
      ]
     },
     "execution_count": 14,
     "metadata": {},
     "output_type": "execute_result"
    }
   ],
   "source": [
    "#second Largest\n",
    "def secondLargest(li):\n",
    "    #convert the list into a unique list\n",
    "    #O(n)\n",
    "    unique=[]\n",
    "    for n in li:\n",
    "        if n not in unique:\n",
    "            unique.append(n)\n",
    "    unique=sorted(unique,reverse=True)\n",
    "    return unique[1]\n",
    "    \n",
    "secondLargest([1,2,3,4,5,6,7,8,9,0])"
   ]
  },
  {
   "cell_type": "code",
   "execution_count": 15,
   "metadata": {},
   "outputs": [
    {
     "data": {
      "text/plain": [
       "5"
      ]
     },
     "execution_count": 15,
     "metadata": {},
     "output_type": "execute_result"
    }
   ],
   "source": [
    "#fifth least from a given lsit\n",
    "def fifthleast(li):\n",
    "    unique=[]\n",
    "    for i in li:\n",
    "        if i not in unique:\n",
    "            unique.append(i)\n",
    "    unique=sorted(unique,reverse=True)\n",
    "    return unique[len(unique)-5]\n",
    "\n",
    "fifthleast([1,2,3,4,5,6,7,8,9])"
   ]
  },
  {
   "cell_type": "code",
   "execution_count": 18,
   "metadata": {},
   "outputs": [
    {
     "data": {
      "text/plain": [
       "-1"
      ]
     },
     "execution_count": 18,
     "metadata": {},
     "output_type": "execute_result"
    }
   ],
   "source": [
    "def kthleast(li,k):\n",
    "    unique=[]\n",
    "    for i in li:\n",
    "        if i not in unique:\n",
    "            unique.append(i)\n",
    "        \n",
    "    unique=sorted(unique)\n",
    "    if(len(unique)>k):\n",
    "        return unique[k-1]\n",
    "    else:\n",
    "        return -1\n",
    "\n",
    "\n",
    "kthleast([112,2324,1242,353,34457,35346,4,2342365,345],10)"
   ]
  },
  {
   "cell_type": "code",
   "execution_count": null,
   "metadata": {},
   "outputs": [],
   "source": []
  }
 ],
 "metadata": {
  "kernelspec": {
   "display_name": "Python 3",
   "language": "python",
   "name": "python3"
  },
  "language_info": {
   "codemirror_mode": {
    "name": "ipython",
    "version": 3
   },
   "file_extension": ".py",
   "mimetype": "text/x-python",
   "name": "python",
   "nbconvert_exporter": "python",
   "pygments_lexer": "ipython3",
   "version": "3.7.3"
  }
 },
 "nbformat": 4,
 "nbformat_minor": 2
}
