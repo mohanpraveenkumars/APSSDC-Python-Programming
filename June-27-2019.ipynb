{
 "cells": [
  {
   "cell_type": "markdown",
   "metadata": {},
   "source": [
    "# My Practise"
   ]
  },
  {
   "cell_type": "markdown",
   "metadata": {},
   "source": [
    "### Micro and Array Update\n",
    "\n",
    "Micro purchased an array A having N integer values. After playing it for a while, he got bored of it and decided to update value of its element. In one second he can increase value of each array element by 1. He wants each array element's value to become greater than or equal to K. Please help Micro to find out the minimum amount of time it will take, for him to do so.\n",
    "\n",
    "Input: \n",
    "First line consists of a single integer, T, denoting the number of test cases. \n",
    "First line of each test case consists of two space separated integers denoting N and K. \n",
    "Second line of each test case consists of N space separated integers denoting the array A.\n",
    "\n",
    "Output:\n",
    "For each test case, print the minimum time in which all array elements will become greater than or equal to K. Print a new line after each test case.\n",
    "\n"
   ]
  },
  {
   "cell_type": "code",
   "execution_count": 3,
   "metadata": {},
   "outputs": [
    {
     "name": "stdout",
     "output_type": "stream",
     "text": [
      "1\n",
      "3 4\n",
      "3 4\n",
      "7 8 9 \n",
      "0\n",
      "Wall time: 20.3 s\n"
     ]
    }
   ],
   "source": [
    "%%time\n",
    "def array_Update(arr,n,a):\n",
    "    count =0\n",
    "    while min(arr) < a:\n",
    "        for idx in range(n):\n",
    "            if arr[idx] < a :\n",
    "                value = arr[idx]\n",
    "                value+=1\n",
    "                arr[idx]=value\n",
    "        count+=1\n",
    "    print(count)\n",
    "\n",
    "for i in range(int(input())):\n",
    "    n,k=map(int,input().split())\n",
    "    arr=list(map(int,input().split()))\n",
    "    array_Update(arr,n,k)"
   ]
  },
  {
   "cell_type": "code",
   "execution_count": 5,
   "metadata": {},
   "outputs": [
    {
     "name": "stdout",
     "output_type": "stream",
     "text": [
      "1\n",
      "3 4\n",
      "1 2 6\n",
      "3\n",
      "Wall time: 9.45 s\n"
     ]
    }
   ],
   "source": [
    "%%time\n",
    "def array_Update1(arr,n,a):\n",
    "    count =0\n",
    "    minim=min(arr)\n",
    "    while minim < a:\n",
    "        minim +=1\n",
    "        count+=1\n",
    "    print(count)\n",
    "\n",
    "for i in range(int(input())):\n",
    "    n,k=map(int,input().split())\n",
    "    arr=list(map(int,input().split()))\n",
    "    array_Update1(arr,n,k)"
   ]
  },
  {
   "cell_type": "code",
   "execution_count": null,
   "metadata": {},
   "outputs": [],
   "source": []
  },
  {
   "cell_type": "markdown",
   "metadata": {},
   "source": [
    "## Monk and Welcome Problem\n",
    "\n",
    "Having a good previous year, Monk is back to teach algorithms and data structures. This year he welcomes the learners with a problem which he calls \"Welcome Problem\". The problem gives you two arrays A and B (each array of size N) and asks to print new array C such that:\n",
    " ; \n",
    "\n",
    "Now, Monk will proceed further when you solve this one. So, go on and solve it :)\n",
    "\n",
    "Input:\n",
    "First line consists of an integer N, denoting the size of A and B.\n",
    "Next line consists of N space separated integers denoting the array A.\n",
    "Next line consists of N space separated integers denoting the array B.\n",
    "\n",
    "Output:\n",
    "Print N space separated integers denoting the array C."
   ]
  },
  {
   "cell_type": "code",
   "execution_count": 1,
   "metadata": {},
   "outputs": [
    {
     "name": "stdout",
     "output_type": "stream",
     "text": [
      "5\n",
      "1 2 3 4 5\n",
      "4 5 3 2 10\n",
      "5 7 6 6 15 Wall time: 8.07 s\n"
     ]
    }
   ],
   "source": [
    "%%time\n",
    "def arr_add(a,b,n):\n",
    "    for idx in range(n):\n",
    "        c=a[idx]+b[idx]\n",
    "        print(c,end=' ')\n",
    "        \n",
    "size=int(input())\n",
    "a=list(map(int,input().split()))\n",
    "b=list(map(int,input().split()))\n",
    "arr_add(a,b,size)"
   ]
  },
  {
   "cell_type": "code",
   "execution_count": null,
   "metadata": {},
   "outputs": [],
   "source": []
  },
  {
   "cell_type": "markdown",
   "metadata": {},
   "source": [
    "## Memorise Me!\n",
    "\n",
    "Arijit is a brilliant boy. He likes memory games. He likes to participate alone but this time he has to have a partner. So he chooses you.\n",
    "\n",
    "In this Game , your team will be shown N numbers for few minutes . You will have to memorize these numbers.\n",
    "\n",
    "Now, the questioner will ask you Q queries, in each query He will give you a number , and you have to tell him the total number of occurrences of that number in the array of numbers shown to your team . If the number is not present , then you will have to say “NOT PRESENT” (without quotes).\n",
    "\n",
    "INPUT And OUTPUT\n",
    "\n",
    "The first line of input will contain N, an integer, which is the total number of numbers shown to your team.\n",
    "\n",
    "The second line of input contains N space separated integers .\n",
    "\n",
    "The third line of input contains an integer Q , denoting the total number of integers.\n",
    "\n",
    "The Next Q lines will contain an integer denoting an integer,  , for which you have to print the number of occurrences of that number () in those N numbers on a new line.\n",
    "\n",
    "If the number  isn’t present then Print “NOT PRESENT” (without quotes) on a new line."
   ]
  },
  {
   "cell_type": "code",
   "execution_count": 8,
   "metadata": {},
   "outputs": [
    {
     "name": "stdout",
     "output_type": "stream",
     "text": [
      "6\n",
      "1 1 1 2 2 0\n",
      "6\n",
      "1\n",
      "3\n",
      "2\n",
      "2\n",
      "1\n",
      "3\n",
      "0\n",
      "1\n",
      "3\n",
      "NOT PRESENT\n",
      "4\n",
      "NOT PRESENT\n"
     ]
    }
   ],
   "source": [
    "def memorize(data):\n",
    "    d = {}\n",
    "    for i in data:\n",
    "        if i not in d.keys():\n",
    "            d[i]=data.count(i)\n",
    "    for j in range(int(input())):\n",
    "        i = int(input())\n",
    "        if( i in d.keys()):\n",
    "            print(d[i])\n",
    "        else:\n",
    "            print(\"NOT PRESENT\")\n",
    "        \n",
    "n=int(input())\n",
    "data = list(map(int,input().split()))\n",
    "memorize(data)\n"
   ]
  },
  {
   "cell_type": "markdown",
   "metadata": {},
   "source": [
    "**End of Practise**"
   ]
  },
  {
   "cell_type": "code",
   "execution_count": null,
   "metadata": {},
   "outputs": [],
   "source": []
  },
  {
   "cell_type": "code",
   "execution_count": null,
   "metadata": {},
   "outputs": [],
   "source": []
  },
  {
   "cell_type": "markdown",
   "metadata": {},
   "source": [
    "## Akash Sir Class"
   ]
  },
  {
   "cell_type": "code",
   "execution_count": 3,
   "metadata": {},
   "outputs": [
    {
     "name": "stdout",
     "output_type": "stream",
     "text": [
      "1 2 3 4 5\n",
      "1 2\n",
      "1 3\n",
      "1 4\n",
      "1 5\n",
      "2 3\n",
      "2 4\n",
      "2 5\n",
      "3 4\n",
      "3 5\n",
      "4 5\n",
      "Wall time: 13.6 s\n"
     ]
    }
   ],
   "source": [
    "# Function to print all combinations of \n",
    "# [1,2,3] --> (1,2),(1,3),(2,3) --> 3C2 --> 3!/((3-2)!*2!)        nCr = n!/((n-r)!*r!)\n",
    "def combinationoftwo(li):\n",
    "    for idx in range(len(li)-1):\n",
    "        for i in range(idx+1, len(li)):\n",
    "            print(li[idx],li[i])\n",
    "    return\n",
    "\n",
    "li=list(map(int,input().split()))\n",
    "combinationoftwo(li)\n",
    "        \n",
    "    "
   ]
  },
  {
   "cell_type": "code",
   "execution_count": 38,
   "metadata": {},
   "outputs": [
    {
     "name": "stdout",
     "output_type": "stream",
     "text": [
      "1 2 3 4\n",
      "1 2 3\n",
      "1 2 4\n",
      "1 3 4\n",
      "2 3 4\n"
     ]
    }
   ],
   "source": [
    "#[1,2,3,4] --> (1,2,3),(1,2,4),(1,3,4),(2,3,4)\n",
    "\n",
    "def combinationofthree(li):\n",
    "    for idx in range(len(li)-2):\n",
    "        for i in range(idx+1, len(li)-1):\n",
    "            for j in range(i+1, len(li)):\n",
    "                print(li[idx],li[i],li[j])\n",
    "    return\n",
    "\n",
    "li=list(map(int,input().split()))\n",
    "combinationofthree(li)"
   ]
  },
  {
   "cell_type": "code",
   "execution_count": 11,
   "metadata": {},
   "outputs": [
    {
     "name": "stdout",
     "output_type": "stream",
     "text": [
      "1 3 5 11\n"
     ]
    },
    {
     "data": {
      "text/plain": [
       "10"
      ]
     },
     "execution_count": 11,
     "metadata": {},
     "output_type": "execute_result"
    }
   ],
   "source": [
    "# Difference Pairs  (Medium Problem in June 25 th Exam)\n",
    "def medium(li, k):\n",
    "    count = 0\n",
    "    while True:\n",
    "        li3 = DifferentPairs(li)\n",
    "        if li3[0] == li3[1]:\n",
    "            break\n",
    "    if len(li3[0]) >= k:\n",
    "        return sorted(li3[0], reverse=True)[k-1]\n",
    "    else:\n",
    "        return -1\n",
    "\n",
    "def DifferentPairs(li):\n",
    "    li_copy = li[:]\n",
    "    new_elements  = []\n",
    "    \n",
    "    for i in range(len(li)-1):\n",
    "        for j in range(i+1, len(li)):\n",
    "            diff_var = abs(li[i]-li[j])\n",
    "            if diff_var not in li and diff_var not in new_elements:\n",
    "                new_elements.append(diff_var)\n",
    "    li.extend(new_elements)    \n",
    "    return [li_copy,li]\n",
    "    \n",
    "li=list(map(int,input().split()))\n",
    "medium(li,2)"
   ]
  },
  {
   "cell_type": "code",
   "execution_count": 9,
   "metadata": {},
   "outputs": [],
   "source": [
    "a=[1,2,3]\n",
    "b=[2,3,1]\n",
    "a= b.copy() #copy through indirect referencing\n",
    "a = b[:] #copy through direct referencing\n"
   ]
  },
  {
   "cell_type": "code",
   "execution_count": 16,
   "metadata": {},
   "outputs": [
    {
     "data": {
      "text/plain": [
       "[2, 3, 6, 9, 12, 1, 4, 7, 10, 5, 8, 11]"
      ]
     },
     "execution_count": 16,
     "metadata": {},
     "output_type": "execute_result"
    }
   ],
   "source": [
    "def diff_pairs(li):\n",
    "    c=li.copy()\n",
    "    newelements=[]\n",
    "    for i in range(len(li)-1):\n",
    "        for j in range(i+1, len(li)):\n",
    "            d= abs(li[i]-li[j])\n",
    "            if d not in li and d not in newelements:\n",
    "                newelements.append(d)\n",
    "    li.extend(newelements)\n",
    "    return li\n",
    "    \n",
    "li = [2, 3, 6, 9, 12, 1, 4, 7, 10, 5, 8, 11]\n",
    "\n",
    "diff_pairs(li)\n",
    "    "
   ]
  },
  {
   "cell_type": "code",
   "execution_count": null,
   "metadata": {},
   "outputs": [],
   "source": []
  },
  {
   "cell_type": "markdown",
   "metadata": {},
   "source": [
    "## Set - Data Structures\n",
    "\n",
    "- Represented by {  }\n",
    "- It deletes repeated and printes unique data\n",
    "- set is mutable\n",
    "- add data into set by using .add( value )\n",
    "- adding the two sets a,b using the a.update(b)\n",
    "- adding multiple elements a.update(b,c)\n",
    "- union of two elements a.union(b)\n",
    "- Intersection of two elements a.intersection(b)"
   ]
  },
  {
   "cell_type": "code",
   "execution_count": 30,
   "metadata": {},
   "outputs": [
    {
     "name": "stdout",
     "output_type": "stream",
     "text": [
      "1 2 3 4 5 6 7 "
     ]
    },
    {
     "data": {
      "text/plain": [
       "{1, 2, 3, 4, 5, 6, 7, 8, 9, 11, 12, 13}"
      ]
     },
     "execution_count": 30,
     "metadata": {},
     "output_type": "execute_result"
    }
   ],
   "source": [
    "a={1,2,3,2,1,4,5,3,2,6}\n",
    "a.add(7)  # adding a single element\n",
    "\n",
    "for i in a:\n",
    "    print(i, end=\" \")\n",
    "\n",
    "b={7,8,9,1,2,3}\n",
    "li = [11,12,13,1]\n",
    "a.update(b,li)\n",
    "\n",
    "a"
   ]
  },
  {
   "cell_type": "code",
   "execution_count": 34,
   "metadata": {},
   "outputs": [
    {
     "data": {
      "text/plain": [
       "{1, 2, 3, 4, 5, 6, 7, 8, 9, 11, 12}"
      ]
     },
     "execution_count": 34,
     "metadata": {},
     "output_type": "execute_result"
    }
   ],
   "source": [
    "a.discard(13)\n",
    "a"
   ]
  },
  {
   "cell_type": "code",
   "execution_count": 37,
   "metadata": {},
   "outputs": [
    {
     "data": {
      "text/plain": [
       "{1, 2, 3, 4, 5, 6, 7, 8, 9, 10}"
      ]
     },
     "execution_count": 37,
     "metadata": {},
     "output_type": "execute_result"
    }
   ],
   "source": [
    "a={10,9,8,6,5,3,2}\n",
    "b={1,2,3,4,5,6,7,8}\n",
    "\n",
    "a.union(b)    # A U B == B U A\n"
   ]
  },
  {
   "cell_type": "code",
   "execution_count": 1,
   "metadata": {},
   "outputs": [
    {
     "data": {
      "text/plain": [
       "{1, 2, 3, 5, 6, 8}"
      ]
     },
     "execution_count": 1,
     "metadata": {},
     "output_type": "execute_result"
    }
   ],
   "source": [
    "a={10,9,8,6,5,3,2,1}\n",
    "b={1,2,3,4,5,6,7,8}\n",
    "c={111,122}\n",
    "\n",
    "a.intersection(b)"
   ]
  },
  {
   "cell_type": "code",
   "execution_count": 51,
   "metadata": {},
   "outputs": [
    {
     "data": {
      "text/plain": [
       "{2, 3, 5, 6, 8}"
      ]
     },
     "execution_count": 51,
     "metadata": {},
     "output_type": "execute_result"
    }
   ],
   "source": [
    "a.intersection_update(b)\n",
    "a"
   ]
  },
  {
   "cell_type": "code",
   "execution_count": 3,
   "metadata": {},
   "outputs": [
    {
     "data": {
      "text/plain": [
       "True"
      ]
     },
     "execution_count": 3,
     "metadata": {},
     "output_type": "execute_result"
    }
   ],
   "source": [
    "a.isdisjoint(c)"
   ]
  },
  {
   "cell_type": "code",
   "execution_count": 56,
   "metadata": {},
   "outputs": [
    {
     "data": {
      "text/plain": [
       "{9, 10}"
      ]
     },
     "execution_count": 56,
     "metadata": {},
     "output_type": "execute_result"
    }
   ],
   "source": [
    "a - b # return all elements present in 'a' not in 'b'"
   ]
  },
  {
   "cell_type": "code",
   "execution_count": 58,
   "metadata": {},
   "outputs": [
    {
     "data": {
      "text/plain": [
       "{4, 7}"
      ]
     },
     "execution_count": 58,
     "metadata": {},
     "output_type": "execute_result"
    }
   ],
   "source": [
    "b - a # return all elements present in 'b' not in 'a'"
   ]
  },
  {
   "cell_type": "code",
   "execution_count": 59,
   "metadata": {},
   "outputs": [
    {
     "data": {
      "text/plain": [
       "{4, 7, 9, 10}"
      ]
     },
     "execution_count": 59,
     "metadata": {},
     "output_type": "execute_result"
    }
   ],
   "source": [
    "a ^ b  # returns elements either in 'a' or in 'b' but not in both"
   ]
  },
  {
   "cell_type": "code",
   "execution_count": 64,
   "metadata": {},
   "outputs": [
    {
     "data": {
      "text/plain": [
       "set()"
      ]
     },
     "execution_count": 64,
     "metadata": {},
     "output_type": "execute_result"
    }
   ],
   "source": [
    "d= set()   # It creates a empty set\n",
    "\n",
    "d"
   ]
  },
  {
   "cell_type": "code",
   "execution_count": 66,
   "metadata": {},
   "outputs": [
    {
     "data": {
      "text/plain": [
       "{1, 2, 3, 4}"
      ]
     },
     "execution_count": 66,
     "metadata": {},
     "output_type": "execute_result"
    }
   ],
   "source": [
    "li = [1,2,3,4,2,1,3,4]\n",
    "u = set(li)\n",
    "u"
   ]
  },
  {
   "cell_type": "code",
   "execution_count": null,
   "metadata": {},
   "outputs": [],
   "source": []
  },
  {
   "cell_type": "markdown",
   "metadata": {},
   "source": [
    "## Functional Programing\n",
    "\n",
    "    List Comprehensions\n",
    "    Iterators\n",
    "    Generators\n",
    "    Maps\n",
    "    Lambda\n",
    "    Builtin Functions\n",
    "    Use Cases*\n",
    "\n",
    "- Procedural  : C\n",
    "\n",
    "- Object Oriented : Java, Python\n",
    "\n",
    "- Scripting : PHP , Python, Javascript, Shell, perl\n",
    "\n",
    "- Functional : Python, Haskell, Scala\n",
    "\n",
    "- Logic : Prolog, Lisp, "
   ]
  },
  {
   "cell_type": "markdown",
   "metadata": {},
   "source": [
    "### List Comprehensions\n",
    "\n",
    "syntax  --> [ *expression* for *item* in *list* if *conditional* ]\n"
   ]
  },
  {
   "cell_type": "code",
   "execution_count": 74,
   "metadata": {},
   "outputs": [
    {
     "data": {
      "text/plain": [
       "[1, 2, 3, 4, 5, 6, 7, 8, 9, 10]"
      ]
     },
     "execution_count": 74,
     "metadata": {},
     "output_type": "execute_result"
    }
   ],
   "source": [
    "# List of N Natural numbers  --->  Basic Method\n",
    "\n",
    "n=10\n",
    "nli=[]\n",
    "for i in range(1,n+1):\n",
    "    nli.append(i)\n",
    "    \n",
    "nli"
   ]
  },
  {
   "cell_type": "code",
   "execution_count": 76,
   "metadata": {},
   "outputs": [
    {
     "data": {
      "text/plain": [
       "[1, 2, 3, 4, 5, 6, 7, 8, 9, 10]"
      ]
     },
     "execution_count": 76,
     "metadata": {},
     "output_type": "execute_result"
    }
   ],
   "source": [
    "nli = [i for i in range(1,11)]\n",
    "nli"
   ]
  },
  {
   "cell_type": "code",
   "execution_count": 80,
   "metadata": {},
   "outputs": [
    {
     "name": "stdout",
     "output_type": "stream",
     "text": [
      "10\n"
     ]
    },
    {
     "data": {
      "text/plain": [
       "[1, 8, 27, 64, 125, 216, 343, 512, 729, 1000]"
      ]
     },
     "execution_count": 80,
     "metadata": {},
     "output_type": "execute_result"
    }
   ],
   "source": [
    "# Apply list to store thr cube s of n natural number\n",
    "\n",
    "cubesli = [i**3 for i in range(1,int(input())+1)]\n",
    "cubesli"
   ]
  },
  {
   "cell_type": "code",
   "execution_count": 89,
   "metadata": {},
   "outputs": [
    {
     "name": "stdout",
     "output_type": "stream",
     "text": [
      "10\n"
     ]
    },
    {
     "data": {
      "text/plain": [
       "[1.4142135623730951,\n",
       " 1.7320508075688772,\n",
       " 2.0,\n",
       " 2.23606797749979,\n",
       " 2.449489742783178,\n",
       " 2.6457513110645907,\n",
       " 2.8284271247461903,\n",
       " 3.0,\n",
       " 3.1622776601683795]"
      ]
     },
     "execution_count": 89,
     "metadata": {},
     "output_type": "execute_result"
    }
   ],
   "source": [
    "import math\n",
    "sqrli = [math.sqrt(i) for i in range(2,int(input())+1)]\n",
    "sqrli"
   ]
  },
  {
   "cell_type": "code",
   "execution_count": 94,
   "metadata": {},
   "outputs": [
    {
     "name": "stdout",
     "output_type": "stream",
     "text": [
      "6\n"
     ]
    },
    {
     "data": {
      "text/plain": [
       "[1, 2, 6, 24, 120, 720]"
      ]
     },
     "execution_count": 94,
     "metadata": {},
     "output_type": "execute_result"
    }
   ],
   "source": [
    "# Function to calculate the factorial\n",
    "\n",
    "def factorial(n):\n",
    "    if n==1 or n==0:\n",
    "        return 1\n",
    "    return n*factorial(n-1)\n",
    "\n",
    "# Apply list Comprehension to calculate factorial of n natural number\n",
    "\n",
    "factorial_list = [factorial(i) for i in range(1,int(input())+1)]\n",
    "factorial_list"
   ]
  },
  {
   "cell_type": "code",
   "execution_count": 102,
   "metadata": {},
   "outputs": [
    {
     "name": "stdout",
     "output_type": "stream",
     "text": [
      "5\n"
     ]
    },
    {
     "data": {
      "text/plain": [
       "[1, 3, 6, 10, 15]"
      ]
     },
     "execution_count": 102,
     "metadata": {},
     "output_type": "execute_result"
    }
   ],
   "source": [
    "# Store cumulative sum of number till n in a list\n",
    "# n = 5 --> [1,3,6,10,15]\n",
    "\n",
    "cumulative_sum = [sum(range(1,i+1)) for i in range(1,int(input())+1)]\n",
    "cumulative_sum\n"
   ]
  },
  {
   "cell_type": "code",
   "execution_count": 106,
   "metadata": {},
   "outputs": [
    {
     "name": "stdout",
     "output_type": "stream",
     "text": [
      "1970\n",
      "2019\n"
     ]
    },
    {
     "data": {
      "text/plain": [
       "[1972, 1976, 1980, 1984, 1988, 1992, 1996, 2000, 2004, 2008, 2012, 2016]"
      ]
     },
     "execution_count": 106,
     "metadata": {},
     "output_type": "execute_result"
    }
   ],
   "source": [
    "# List Comprehension to store only leap years in a given time period\n",
    "\n",
    "st=1970\n",
    "et=2019\n",
    "leap_year = [year for year in range(int(input()),int(input())+1) if (year%400==0 or (year%4==0 and year% 100!=0))]\n",
    "leap_year"
   ]
  },
  {
   "cell_type": "code",
   "execution_count": 5,
   "metadata": {},
   "outputs": [
    {
     "data": {
      "text/plain": [
       "[None, None, None]"
      ]
     },
     "execution_count": 5,
     "metadata": {},
     "output_type": "execute_result"
    }
   ],
   "source": [
    "li = [1,2,3,2,1]\n",
    "u2=[]\n",
    "#unique_data = [unique for unique in range(0,len(li)-1) if sorted(li)[unique] != sorted(li)[unique+1]]\n",
    "unique_data = [u2.append(i) for i in li if i not in u2]\n",
    "unique_data\n",
    "\n",
    "#not working"
   ]
  },
  {
   "cell_type": "code",
   "execution_count": null,
   "metadata": {},
   "outputs": [],
   "source": [
    " "
   ]
  },
  {
   "cell_type": "markdown",
   "metadata": {},
   "source": [
    "## Iterators\n",
    "\n",
    "    Iterable - Strings, Lists, Tuples, Sets, Dictionaries\n",
    "    \n",
    "    \n",
    "Convert Iterable to Iterator --> iter()\n",
    "\n",
    "For Loop : \n",
    "\n",
    "Iterator : \n",
    "    "
   ]
  },
  {
   "cell_type": "code",
   "execution_count": 131,
   "metadata": {},
   "outputs": [
    {
     "name": "stdout",
     "output_type": "stream",
     "text": [
      "1:\n",
      "P\n",
      "2:\n",
      "y\n"
     ]
    }
   ],
   "source": [
    "it = iter('Python')\n",
    "print(\"1:\")\n",
    "print(next(it))\n",
    "print(\"2:\")\n",
    "print(next(it))"
   ]
  },
  {
   "cell_type": "markdown",
   "metadata": {},
   "source": [
    "## Generator\n",
    "\n",
    "Generator is a Function"
   ]
  },
  {
   "cell_type": "code",
   "execution_count": 147,
   "metadata": {},
   "outputs": [
    {
     "data": {
      "text/plain": [
       "512"
      ]
     },
     "execution_count": 147,
     "metadata": {},
     "output_type": "execute_result"
    }
   ],
   "source": [
    "def generator():\n",
    "    n =2\n",
    "    for i in range(1,5):\n",
    "        n **=3\n",
    "        yield n\n",
    "a=generator()\n",
    "next(a)\n",
    "next(a)"
   ]
  },
  {
   "cell_type": "code",
   "execution_count": null,
   "metadata": {},
   "outputs": [],
   "source": []
  },
  {
   "cell_type": "code",
   "execution_count": null,
   "metadata": {},
   "outputs": [],
   "source": []
  },
  {
   "cell_type": "code",
   "execution_count": null,
   "metadata": {},
   "outputs": [],
   "source": []
  },
  {
   "cell_type": "code",
   "execution_count": null,
   "metadata": {},
   "outputs": [],
   "source": []
  },
  {
   "cell_type": "code",
   "execution_count": 103,
   "metadata": {},
   "outputs": [
    {
     "data": {
      "text/plain": [
       "['Love']"
      ]
     },
     "execution_count": 103,
     "metadata": {},
     "output_type": "execute_result"
    }
   ],
   "source": [
    "listofwords = [\"I\", \"Love\", \"India\"]\n",
    "result = [word for word in listofwords if word[0]!='I']\n",
    "result"
   ]
  },
  {
   "cell_type": "code",
   "execution_count": null,
   "metadata": {},
   "outputs": [],
   "source": []
  }
 ],
 "metadata": {
  "kernelspec": {
   "display_name": "Python 3",
   "language": "python",
   "name": "python3"
  },
  "language_info": {
   "codemirror_mode": {
    "name": "ipython",
    "version": 3
   },
   "file_extension": ".py",
   "mimetype": "text/x-python",
   "name": "python",
   "nbconvert_exporter": "python",
   "pygments_lexer": "ipython3",
   "version": "3.7.3"
  }
 },
 "nbformat": 4,
 "nbformat_minor": 2
}
