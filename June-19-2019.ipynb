{
 "cells": [
  {
   "cell_type": "markdown",
   "metadata": {},
   "source": [
    "### Hacker Earth Problem\n",
    "\n",
    "***Roy and Profile pictures***\n",
    "\n",
    "Roy wants to change his profile picture on Facebook. Now Facebook has some restriction over the dimension of picture that we can upload.\n",
    "Minimum dimension of the picture can be L x L, where L is the length of the side of square.\n",
    "\n",
    "Now Roy has N photos of various dimensions.\n",
    "Dimension of a photo is denoted as W x H \n",
    "where W - width of the photo and H - Height of the photo\n",
    "\n",
    "When any photo is uploaded following events may occur:\n",
    "\n",
    "- [1] If any of the width or height is less than L, user is prompted to upload another one. Print \"UPLOAD ANOTHER\" in this case.\n",
    "- [2] If width and height, both are large enough and \n",
    "(a) if the photo is already square then it is accepted. Print \"ACCEPTED\" in this case.\n",
    "(b) else user is prompted to crop it. Print \"CROP IT\" in this case.\n",
    "\n",
    "(quotes are only for clarification)\n",
    "\n",
    "Given L, N, W and H as input, print appropriate text as output.\n",
    "\n",
    "Input:\n",
    "First line contains L.\n",
    "Second line contains N, number of photos.\n",
    "Following N lines each contains two space separated integers W and H.\n",
    "\n",
    "Output:\n",
    "Print appropriate text for each photo in a new line."
   ]
  },
  {
   "cell_type": "code",
   "execution_count": 9,
   "metadata": {},
   "outputs": [
    {
     "name": "stdout",
     "output_type": "stream",
     "text": [
      "180\n",
      "3\n",
      "640 480\n",
      "CROP PHOTO\n",
      "180 180\n",
      "ACCEPTED\n",
      "120 300\n",
      "UPLOAD ANOTHER\n"
     ]
    }
   ],
   "source": [
    "def profile(dim, width, length):\n",
    "    if (width < dim or length < dim):\n",
    "        print(\"UPLOAD ANOTHER\")\n",
    "    elif (width == length):\n",
    "        print(\"ACCEPTED\")\n",
    "    else: \n",
    "        print(\"CROP IT\")\n",
    "    \n",
    "dim=int(input())\n",
    "N=int(input())\n",
    "for i in range(N):\n",
    "    s=input().split()\n",
    "    width= int(s[0])\n",
    "    length= int(s[1])\n",
    "    profile(dim, width, length)"
   ]
  },
  {
   "cell_type": "code",
   "execution_count": null,
   "metadata": {},
   "outputs": [],
   "source": []
  },
  {
   "cell_type": "markdown",
   "metadata": {},
   "source": [
    "## Ali and Helping innocent people\n",
    "\n",
    "Arpasland has surrounded by attackers. A truck enters the city. The driver claims the load is food and medicine from Iranians. Ali is one of the soldiers in Arpasland. He doubts about the truck, maybe it's from the siege. He knows that a tag is valid if the sum of every two consecutive digits of it is even and its letter is not a vowel. Determine if the tag of the truck is valid or not.\n",
    "\n",
    "We consider the letters \"A\",\"E\",\"I\",\"O\",\"U\",\"Y\" to be vowels for this problem.\n",
    "\n",
    "Input Format\n",
    "\n",
    "The first line contains a string of length 9. The format is \"DDXDDD-DD\", where D stands for a digit (non zero) and X is an uppercase english letter.\n",
    "\n",
    "Output Format\n",
    "\n",
    "Print \"valid\" (without quotes) if the tag is valid, print \"invalid\" otherwise (without quotes)"
   ]
  },
  {
   "cell_type": "code",
   "execution_count": 15,
   "metadata": {},
   "outputs": [
    {
     "name": "stdout",
     "output_type": "stream",
     "text": [
      "12X345-67\n",
      "invalid\n"
     ]
    }
   ],
   "source": [
    "def tag(string):\n",
    "    for i in range(0, len(string)-1):\n",
    "        if string[i].isdigit() == True and string[i+1].isdigit() == True:\n",
    "            if (int(string[i]) + int(string[i+1]) % 2 != 0):\n",
    "                print(\"invalid\")\n",
    "                break\n",
    "        elif string[i].isalpha() == True and string[i].isupper() == True:\n",
    "            if string[i]== \"A\" or  string[i]== \"E\" or  string[i]== \"I\" or  string[i]== \"O\" or  string[i]== \"U\":\n",
    "                print(\"invaid\")\n",
    "                break\n",
    "        else:\n",
    "            print(\"valid\")\n",
    "            \n",
    "string = input()\n",
    "tag(string)\n"
   ]
  },
  {
   "cell_type": "code",
   "execution_count": null,
   "metadata": {},
   "outputs": [],
   "source": []
  },
  {
   "cell_type": "code",
   "execution_count": null,
   "metadata": {},
   "outputs": [],
   "source": []
  }
 ],
 "metadata": {
  "kernelspec": {
   "display_name": "Python 3",
   "language": "python",
   "name": "python3"
  },
  "language_info": {
   "codemirror_mode": {
    "name": "ipython",
    "version": 3
   },
   "file_extension": ".py",
   "mimetype": "text/x-python",
   "name": "python",
   "nbconvert_exporter": "python",
   "pygments_lexer": "ipython3",
   "version": "3.7.3"
  }
 },
 "nbformat": 4,
 "nbformat_minor": 2
}
