{
 "cells": [
  {
   "cell_type": "markdown",
   "metadata": {},
   "source": [
    "### Hacker Earth Problem\n",
    "\n",
    "***Roy and Profile pictures***\n",
    "\n",
    "Roy wants to change his profile picture on Facebook. Now Facebook has some restriction over the dimension of picture that we can upload.\n",
    "Minimum dimension of the picture can be L x L, where L is the length of the side of square.\n",
    "\n",
    "Now Roy has N photos of various dimensions.\n",
    "Dimension of a photo is denoted as W x H \n",
    "where W - width of the photo and H - Height of the photo\n",
    "\n",
    "When any photo is uploaded following events may occur:\n",
    "\n",
    "- [1] If any of the width or height is less than L, user is prompted to upload another one. Print \"UPLOAD ANOTHER\" in this case.\n",
    "- [2] If width and height, both are large enough and \n",
    "(a) if the photo is already square then it is accepted. Print \"ACCEPTED\" in this case.\n",
    "(b) else user is prompted to crop it. Print \"CROP IT\" in this case.\n",
    "\n",
    "(quotes are only for clarification)\n",
    "\n",
    "Given L, N, W and H as input, print appropriate text as output.\n",
    "\n",
    "Input:\n",
    "First line contains L.\n",
    "Second line contains N, number of photos.\n",
    "Following N lines each contains two space separated integers W and H.\n",
    "\n",
    "Output:\n",
    "Print appropriate text for each photo in a new line."
   ]
  },
  {
   "cell_type": "code",
   "execution_count": 9,
   "metadata": {},
   "outputs": [
    {
     "name": "stdout",
     "output_type": "stream",
     "text": [
      "180\n",
      "3\n",
      "640 480\n",
      "CROP PHOTO\n",
      "180 180\n",
      "ACCEPTED\n",
      "120 300\n",
      "UPLOAD ANOTHER\n"
     ]
    }
   ],
   "source": [
    "def profile(dim, width, length):\n",
    "    if (width < dim or length < dim):\n",
    "        print(\"UPLOAD ANOTHER\")\n",
    "    elif (width == length):\n",
    "        print(\"ACCEPTED\")\n",
    "    else: \n",
    "        print(\"CROP IT\")\n",
    "    \n",
    "dim=int(input())\n",
    "N=int(input())\n",
    "for i in range(N):\n",
    "    s=input().split()\n",
    "    width= int(s[0])\n",
    "    length= int(s[1])\n",
    "    profile(dim, width, length)"
   ]
  },
  {
   "cell_type": "code",
   "execution_count": null,
   "metadata": {},
   "outputs": [],
   "source": []
  },
  {
   "cell_type": "markdown",
   "metadata": {},
   "source": [
    "## Ali and Helping innocent people\n",
    "\n",
    "Arpasland has surrounded by attackers. A truck enters the city. The driver claims the load is food and medicine from Iranians. Ali is one of the soldiers in Arpasland. He doubts about the truck, maybe it's from the siege. He knows that a tag is valid if the sum of every two consecutive digits of it is even and its letter is not a vowel. Determine if the tag of the truck is valid or not.\n",
    "\n",
    "We consider the letters \"A\",\"E\",\"I\",\"O\",\"U\",\"Y\" to be vowels for this problem.\n",
    "\n",
    "Input Format\n",
    "\n",
    "The first line contains a string of length 9. The format is \"DDXDDD-DD\", where D stands for a digit (non zero) and X is an uppercase english letter.\n",
    "\n",
    "Output Format\n",
    "\n",
    "Print \"valid\" (without quotes) if the tag is valid, print \"invalid\" otherwise (without quotes)"
   ]
  },
  {
   "cell_type": "code",
   "execution_count": 15,
   "metadata": {},
   "outputs": [
    {
     "name": "stdout",
     "output_type": "stream",
     "text": [
      "12X345-67\n",
      "invalid\n"
     ]
    }
   ],
   "source": [
    "def tag(string):\n",
    "    for i in range(0, len(string)-1):\n",
    "        if string[i].isdigit() == True and string[i+1].isdigit() == True:\n",
    "            if (int(string[i]) + int(string[i+1]) % 2 != 0):\n",
    "                print(\"invalid\")\n",
    "                break\n",
    "        elif string[i].isalpha() == True and string[i].isupper() == True:\n",
    "            if string[i]== \"A\" or  string[i]== \"E\" or  string[i]== \"I\" or  string[i]== \"O\" or  string[i]== \"U\":\n",
    "                print(\"invaid\")\n",
    "                break\n",
    "        else:\n",
    "            print(\"valid\")\n",
    "            \n",
    "string = input()\n",
    "tag(string)\n"
   ]
  },
  {
   "cell_type": "code",
   "execution_count": null,
   "metadata": {},
   "outputs": [],
   "source": [
    "def innocentpeople(s):\n",
    "        f=\"A\",\"E\",\"I\",\"O\",\"U\",\"Y\"\n",
    "        a=int(s[0])+int(s[1])\n",
    "        b=s[2]\n",
    "        c=int(s[3])+int(s[4])\n",
    "        e=int(s[4])+int(s[5])\n",
    "        d=int(s[7])+int(s[8])\n",
    "        #print(a,b,c,e,d)\n",
    "        \n",
    "        if a%2==0 and c%2==0 and e%2==0 and d%2==0 and s[2] not in f:\n",
    "            print(\"valid\")\n",
    "        else:\n",
    "            print(\"invalid\")\n",
    "s=input()\n",
    "innocentpeople(s)"
   ]
  },
  {
   "cell_type": "code",
   "execution_count": null,
   "metadata": {},
   "outputs": [],
   "source": []
  },
  {
   "cell_type": "markdown",
   "metadata": {},
   "source": [
    "## Seating Arrangement\n",
    "\n",
    "Akash and Vishal are quite fond of travelling. They mostly travel by railways. They were travelling in a train one day and they got interested in the seating arrangement of their compartment. The compartment looked something like \n",
    "\n",
    " \n",
    "So they got interested to know the seat number facing them and the seat type facing them. The seats are denoted as follows : \n",
    "\n",
    "Window Seat : WS\n",
    "Middle Seat : MS\n",
    "Aisle Seat : AS\n",
    "\n",
    "You will be given a seat number, find out the seat number facing you and the seat type, i.e. WS, MS or AS.\n",
    "\n",
    "INPUT\n",
    "First line of input will consist of a single integer T denoting number of test-cases. Each test-case consists of a single integer N denoting the seat-number.\n",
    "\n",
    "OUTPUT\n",
    "For each test case, print the facing seat-number and the seat-type, separated by a single space in a new line."
   ]
  },
  {
   "cell_type": "code",
   "execution_count": 2,
   "metadata": {},
   "outputs": [
    {
     "name": "stdout",
     "output_type": "stream",
     "text": [
      "1\n",
      "23\n",
      "14 MS\n"
     ]
    }
   ],
   "source": [
    "def seatpos(num):\n",
    "    if num%6==0 or num%6==1:\n",
    "        print(num, \"WS\")\n",
    "    elif num%6==2 or num%6==5:\n",
    "        print(num, \"MS\")\n",
    "    elif num%6==3 or num%6==4:\n",
    "        print(num, \"AS\")\n",
    "        \n",
    "test=int(input())\n",
    "os=0\n",
    "for i in range(test):\n",
    "    n=int(input())\n",
    "    seat = n % 12\n",
    "    if seat==0:\n",
    "        os = n-11\n",
    "    elif seat<=7:\n",
    "        os=n+(2*(6-seat)+1)\n",
    "    elif seat>7:\n",
    "        os=n-(2*(seat-7)+1)\n",
    "    seatpos(os)"
   ]
  },
  {
   "cell_type": "code",
   "execution_count": null,
   "metadata": {},
   "outputs": [],
   "source": []
  },
  {
   "cell_type": "markdown",
   "metadata": {},
   "source": [
    "##  Bricks Game\n",
    "\n",
    "Patlu and Motu works in a building construction, they have to put some number of bricks N from one place to another, and started doing their work. They decided , they end up with a fun challenge who will put the last brick.\n",
    "\n",
    "They to follow a simple rule, In the i'th round, Patlu puts i bricks whereas Motu puts ix2 bricks.\n",
    "\n",
    "There are only N bricks, you need to help find the challenge result to find who put the last brick.\n",
    "\n",
    "Input:\n",
    "\n",
    "First line contains an integer N.\n",
    "\n",
    "Output:\n",
    "\n",
    "Output \"Patlu\" (without the quotes) if Patlu puts the last bricks ,\"Motu\"(without the quotes) otherwise."
   ]
  },
  {
   "cell_type": "code",
   "execution_count": 3,
   "metadata": {},
   "outputs": [
    {
     "name": "stdout",
     "output_type": "stream",
     "text": [
      "19\n",
      "Patlu\n"
     ]
    }
   ],
   "source": [
    "def bricks(num):\n",
    "    i=1\n",
    "    while(num > (3*i)):\n",
    "        num = num - (3*i)\n",
    "        i+=1\n",
    "    if num > i:\n",
    "        print(\"Motu\")\n",
    "    else:\n",
    "        print(\"Patlu\")\n",
    "            \n",
    "\n",
    "number = int(input())\n",
    "bricks(number)"
   ]
  },
  {
   "cell_type": "code",
   "execution_count": null,
   "metadata": {},
   "outputs": [],
   "source": []
  },
  {
   "cell_type": "markdown",
   "metadata": {},
   "source": [
    "## Book of Potion making\n",
    "Harry wants to find Voldemort's potion making book but he is confused about how to get it.\n",
    "\n",
    "The book has a special ISBN(International Standard Book Number) which is  unique numeric book identifier only for Voldemort's book printed on it. The ISBN is based upon a 10-digit code. The ISBN is valid if:\n",
    "1xdigit1 + 2xdigit2 + 3xdigit3 + 4xdigit4 + 5xdigit5 + 6xdigit6 + 7xdigit7 + 8xdigit8 + 9xdigit9 + 10xdigit10 is divisible by 11.\n",
    "Help Harry to find the book!\n",
    "Input:\n",
    " Input the ISBN code as a 10-digit integer.\n",
    "\n",
    "Output:\n",
    "If the ISBN is not a 10-digit integer, output the message “Illegal ISBN” and terminate the program.\n",
    "If the number is 10-digit, extract the digits of the number and compute the sum as explained in the explanation.\n",
    "If the sum is divisible by 11, output the message, “Legal ISBN”. If the sum is not divisible by 11, output the message, “Illegal ISBN”."
   ]
  },
  {
   "cell_type": "code",
   "execution_count": 4,
   "metadata": {},
   "outputs": [
    {
     "name": "stdout",
     "output_type": "stream",
     "text": [
      "1401601499\n",
      "Legal ISBN\n"
     ]
    }
   ],
   "source": [
    "def harry(n):\n",
    "    sum=0\n",
    "    if (len(str(n))==10):\n",
    "        for i in range(len(str(n)),0,-1):\n",
    "            if(n!=0):\n",
    "                sum=sum+((n%10)*i)\n",
    "                n=n//10\n",
    "        if(sum%11==0):\n",
    "            print(\"Legal ISBN\")\n",
    "        else:\n",
    "            print(\"Illegal ISBN\")\n",
    "    else:\n",
    "        print(\"Illegal ISBN\")\n",
    "n=int(input())\n",
    "harry(n)"
   ]
  },
  {
   "cell_type": "code",
   "execution_count": null,
   "metadata": {},
   "outputs": [],
   "source": []
  },
  {
   "cell_type": "markdown",
   "metadata": {},
   "source": [
    "## Goki and his breakup\n",
    "Goki recently had a breakup, so he wants to have some more friends in his life. Goki has N people who he can be friends with, so he decides to choose among them according to their skills set Yi(1<=i<=n). He wants atleast X skills in his friends.\n",
    "Help Goki find his friends.\n",
    "\n",
    " INPUT\n",
    "First line of the input contains an integer N denoting the number of people.\n",
    "\n",
    "Next line contains a single integer X - denoting the minimum skill required to be Goki's friend. \n",
    "\n",
    "Next n lines contain one integer Y - denoting the skill of ith person.\n",
    "\n",
    "OUTPUT\n",
    "For each person print if he can be friend with Goki. 'YES' (without quotes) if he can be friends with Goki else 'NO' (without quotes)."
   ]
  },
  {
   "cell_type": "code",
   "execution_count": 1,
   "metadata": {},
   "outputs": [
    {
     "name": "stdout",
     "output_type": "stream",
     "text": [
      "5\n",
      "100\n",
      "110\n",
      "YES\n",
      "130\n",
      "YES\n",
      "90\n",
      "NO\n",
      "100\n",
      "YES\n",
      "45\n",
      "NO\n"
     ]
    }
   ],
   "source": [
    "def friend(num):\n",
    "    if num>=X:\n",
    "        print(\"YES\")\n",
    "    else:\n",
    "        print(\"NO\")\n",
    "\n",
    "N=int(input())\n",
    "X=int(input())\n",
    "for i in range(N):\n",
    "    Y=int(input())\n",
    "    friend(Y)\n",
    "    "
   ]
  },
  {
   "cell_type": "code",
   "execution_count": null,
   "metadata": {},
   "outputs": [],
   "source": []
  },
  {
   "cell_type": "markdown",
   "metadata": {},
   "source": [
    "##  Life, the Universe, and Everything\n",
    "Your program is to use the brute-force approach in order to find the Answer to Life, the Universe, and Everything. More precisely... rewrite small numbers from input to output. Stop processing input after reading in the number 42. All numbers at input are integers of one or two digits."
   ]
  },
  {
   "cell_type": "code",
   "execution_count": 5,
   "metadata": {},
   "outputs": [
    {
     "name": "stdout",
     "output_type": "stream",
     "text": [
      "1\n",
      "1\n",
      "2\n",
      "2\n",
      "3\n",
      "3\n",
      "4\n",
      "4\n",
      "5\n",
      "5\n",
      "42\n"
     ]
    }
   ],
   "source": [
    "while(True):\n",
    "    x= int(input())\n",
    "    if x!=42:\n",
    "        print(x)\n",
    "    else:\n",
    "        break"
   ]
  },
  {
   "cell_type": "code",
   "execution_count": null,
   "metadata": {},
   "outputs": [],
   "source": []
  },
  {
   "cell_type": "markdown",
   "metadata": {},
   "source": [
    "## e-maze-in\n",
    "\n",
    "Ankit is in maze. The command center sent him a string which decodes to come out from the maze. He is initially at (0, 0). String contains L, R, U, D denoting left, right, up and down. In each command he will traverse 1 unit distance in the respective direction.\n",
    "\n",
    "maze\n",
    "\n",
    "For example if he is at (2, 0) and the command is L he will go to (1, 0).\n",
    "\n",
    "Input:\n",
    "\n",
    "Input contains a single string.\n",
    "\n",
    "Output:\n",
    "\n",
    "Print the final point where he came out."
   ]
  },
  {
   "cell_type": "code",
   "execution_count": 1,
   "metadata": {},
   "outputs": [
    {
     "name": "stdout",
     "output_type": "stream",
     "text": [
      "LLDDRR\n",
      "0 -2\n"
     ]
    }
   ],
   "source": [
    "cmd=input()\n",
    "x=0\n",
    "y=0\n",
    "for i in cmd:\n",
    "    if i==\"L\":\n",
    "        y-=1\n",
    "    elif i==\"R\":\n",
    "        y+=1\n",
    "    elif i==\"U\":\n",
    "        x+=1\n",
    "    elif i==\"D\":\n",
    "        x-=1\n",
    "\n",
    "print(y, x)"
   ]
  },
  {
   "cell_type": "code",
   "execution_count": null,
   "metadata": {},
   "outputs": [],
   "source": []
  },
  {
   "cell_type": "code",
   "execution_count": null,
   "metadata": {},
   "outputs": [],
   "source": []
  },
  {
   "cell_type": "markdown",
   "metadata": {},
   "source": [
    "## Lift queries\n",
    "\n",
    "There are 7 floors in BH3 and only 2 lifts. Initially Lift A is at the ground floor and Lift B at the top floor. Whenever someone calls the lift from N th floor, the lift closest to that floor comes to pick him up. If both the lifts are at equidistant from the N th floor, them the lift from the lower floor comes up.\n",
    "\n",
    "INPUT\n",
    "\n",
    "First line contains a integer T denoting the number of test cases.\n",
    "\n",
    "Next T lines contains a single integer N denoting the floor from which lift is called.\n",
    "\n",
    "OUTPUT\n",
    "\n",
    "Output T lines containing one character \"A\" if the first lift goes to N th floor or \"B\" for the second lift."
   ]
  },
  {
   "cell_type": "code",
   "execution_count": 9,
   "metadata": {},
   "outputs": [
    {
     "name": "stdout",
     "output_type": "stream",
     "text": [
      "2\n",
      "4\n",
      "B\n",
      "3\n",
      "B\n"
     ]
    }
   ],
   "source": [
    "lift_A=0\n",
    "lift_B=7\n",
    "test_case=int(input())\n",
    "for _ in range(test_case):\n",
    " \n",
    "    N=int(input())\n",
    "    condition_A=abs(lift_A-N)\n",
    "    condition_B=abs(lift_B-N)\n",
    " \n",
    "    if(condition_A <= condition_B):\n",
    "        print(\"A\")\n",
    "        lift_A=N\n",
    "    else:\n",
    "        print(\"B\")\n",
    "        lift_B=N  "
   ]
  },
  {
   "cell_type": "code",
   "execution_count": null,
   "metadata": {},
   "outputs": [],
   "source": []
  },
  {
   "cell_type": "code",
   "execution_count": null,
   "metadata": {},
   "outputs": [],
   "source": []
  },
  {
   "cell_type": "code",
   "execution_count": null,
   "metadata": {},
   "outputs": [],
   "source": []
  },
  {
   "cell_type": "code",
   "execution_count": null,
   "metadata": {},
   "outputs": [],
   "source": []
  }
 ],
 "metadata": {
  "kernelspec": {
   "display_name": "Python 3",
   "language": "python",
   "name": "python3"
  },
  "language_info": {
   "codemirror_mode": {
    "name": "ipython",
    "version": 3
   },
   "file_extension": ".py",
   "mimetype": "text/x-python",
   "name": "python",
   "nbconvert_exporter": "python",
   "pygments_lexer": "ipython3",
   "version": "3.7.3"
  }
 },
 "nbformat": 4,
 "nbformat_minor": 2
}
