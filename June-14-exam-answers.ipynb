{
 "cells": [
  {
   "cell_type": "code",
   "execution_count": 1,
   "metadata": {},
   "outputs": [
    {
     "name": "stdout",
     "output_type": "stream",
     "text": [
      "3\n"
     ]
    },
    {
     "data": {
      "text/plain": [
       "14"
      ]
     },
     "execution_count": 1,
     "metadata": {},
     "output_type": "execute_result"
    }
   ],
   "source": [
    "# Sum of squares of N numbers\n",
    "\n",
    "n=int(input())\n",
    "\n",
    "def sumsquares(n):\n",
    "    sum=0\n",
    "    for i in range(1,n+1):\n",
    "        sum=sum+i**2\n",
    "    return sum\n",
    "\n",
    "sumsquares(n)"
   ]
  },
  {
   "cell_type": "code",
   "execution_count": 10,
   "metadata": {},
   "outputs": [
    {
     "name": "stdout",
     "output_type": "stream",
     "text": [
      "3\n",
      "-1 2 5\n"
     ]
    },
    {
     "data": {
      "text/plain": [
       "-1"
      ]
     },
     "execution_count": 10,
     "metadata": {},
     "output_type": "execute_result"
    }
   ],
   "source": [
    "# given a integer array A of size N. print the value closest to 0. if there are multiple elements print the largest element.\n",
    "\n",
    "n=int(input())\n",
    "s = input()\n",
    "li = []\n",
    "for i in s.split():\n",
    "    li.append(int(i))\n",
    "\n",
    "def ClosestZero(li):\n",
    "    #seperate all thr numbers less than 0 and greater than 0\n",
    "    nl=[]\n",
    "    for i in li:\n",
    "        if i<0:\n",
    "            nl.append(i)\n",
    "    pl=[]\n",
    "    for j in li:\n",
    "        if j>=0:\n",
    "            pl.append(j)\n",
    "    nc = max(nl)\n",
    "    pc = min(pl)\n",
    "    if pc==0:\n",
    "        return 0\n",
    "    elif abs(nc)==pc:\n",
    "        return pc\n",
    "    elif nc < pc:\n",
    "        return nc\n",
    "    else:\n",
    "        return pc\n",
    "\n",
    "ClosestZero(li)\n",
    "    "
   ]
  },
  {
   "cell_type": "code",
   "execution_count": 11,
   "metadata": {},
   "outputs": [
    {
     "name": "stdout",
     "output_type": "stream",
     "text": [
      "3\n",
      "1 2 3\n"
     ]
    },
    {
     "data": {
      "text/plain": [
       "1"
      ]
     },
     "execution_count": 11,
     "metadata": {},
     "output_type": "execute_result"
    }
   ],
   "source": [
    "n = int (input())\n",
    "s = input()\n",
    "s = s.split()\n",
    "li=[]\n",
    "for i in s:\n",
    "    li.append(int(i))\n",
    "    \n",
    "def "
   ]
  },
  {
   "cell_type": "code",
   "execution_count": 11,
   "metadata": {},
   "outputs": [
    {
     "name": "stdout",
     "output_type": "stream",
     "text": [
      "3\n",
      "2\n",
      "9\n",
      "8\n"
     ]
    }
   ],
   "source": [
    "a= int(input())\n",
    "b= int(input())\n",
    "c= int(input())\n",
    "\n",
    "\n",
    "if c>=b and c>=a:\n",
    "    for i in range(c,0,-1):\n",
    "        if i%a==b:\n",
    "            print(i)\n",
    "            break\n",
    "else:\n",
    "    print(-1)\n"
   ]
  },
  {
   "cell_type": "code",
   "execution_count": null,
   "metadata": {},
   "outputs": [],
   "source": []
  }
 ],
 "metadata": {
  "kernelspec": {
   "display_name": "Python 3",
   "language": "python",
   "name": "python3"
  },
  "language_info": {
   "codemirror_mode": {
    "name": "ipython",
    "version": 3
   },
   "file_extension": ".py",
   "mimetype": "text/x-python",
   "name": "python",
   "nbconvert_exporter": "python",
   "pygments_lexer": "ipython3",
   "version": "3.7.3"
  }
 },
 "nbformat": 4,
 "nbformat_minor": 2
}
