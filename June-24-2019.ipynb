{
 "cells": [
  {
   "cell_type": "markdown",
   "metadata": {},
   "source": [
    "## Akash Sir's Class"
   ]
  },
  {
   "cell_type": "code",
   "execution_count": 1,
   "metadata": {},
   "outputs": [],
   "source": [
    "# Find and replace Application\n",
    "    #Count the total number of occurances \n",
    "    # If word is exixting\n",
    "    # Replace all occurances of the word with another word\n",
    "    \n"
   ]
  },
  {
   "cell_type": "code",
   "execution_count": null,
   "metadata": {},
   "outputs": [],
   "source": [
    "def find_string(file, substring):\n",
    "    with open (file, 'a') as fh:\n",
    "        read = fh.readlines()\n",
    "        for i in substring:\n",
    "            \n",
    "            \n",
    "        "
   ]
  },
  {
   "cell_type": "code",
   "execution_count": 2,
   "metadata": {},
   "outputs": [],
   "source": [
    "# Mark Analysis Application\n",
    "    # generate the marks file ---> randint(start, end)\n",
    "    # Input : Marks Text File - each line in the text file contains marks of one student\n",
    "    # genetartes a report of information\n",
    "        # Class Average\n",
    "        # % of student got failed\n",
    "        # % of student got passed\n",
    "        # % of student got distinction"
   ]
  },
  {
   "cell_type": "code",
   "execution_count": 20,
   "metadata": {},
   "outputs": [],
   "source": [
    "# all file concepts for gr=enrating data into files breating average of marks and etc';;\n",
    "# for generating random data into a file\n",
    "#Function to generate marks data for n students\n",
    "from random import randint\n",
    "def generateMarks(n,lb,ub):\n",
    "    with open('DataFiles/marks.txt','w') as f:\n",
    "        for i in range(0,n):\n",
    "            r=randint(lb,ub)\n",
    "            f.write(str(r)+'\\n')\n",
    "    return\n",
    " \n",
    "generateMarks(100,1,75)"
   ]
  },
  {
   "cell_type": "code",
   "execution_count": null,
   "metadata": {},
   "outputs": [],
   "source": []
  },
  {
   "cell_type": "code",
   "execution_count": 21,
   "metadata": {},
   "outputs": [],
   "source": [
    "filename='DataFiles/marks.txt'"
   ]
  },
  {
   "cell_type": "code",
   "execution_count": 39,
   "metadata": {},
   "outputs": [],
   "source": [
    "#read data from file and store in a list\n",
    "def markslist(filename):\n",
    "    l=[]\n",
    "    with open(filename,'r') as f: #opening file and reading data and storing it into a varible s\n",
    "        s=f.read() #Reading Data from the file\n",
    "        d=s.split('\\n') #data spliting into list with removing \\n(new line)\n",
    "        for i in d:\n",
    "            l.append(int(i)) # we want interger data so we are converting it into that\n",
    "        return l"
   ]
  },
  {
   "cell_type": "code",
   "execution_count": null,
   "metadata": {},
   "outputs": [],
   "source": []
  },
  {
   "cell_type": "code",
   "execution_count": 43,
   "metadata": {},
   "outputs": [],
   "source": [
    "#class Average\n",
    "def classAverage(filename):\n",
    "    m=markslist(filename)\n",
    "    cA=sum(m)/len(m)\n",
    "    return cA"
   ]
  },
  {
   "cell_type": "code",
   "execution_count": 44,
   "metadata": {},
   "outputs": [
    {
     "data": {
      "text/plain": [
       "38.34"
      ]
     },
     "execution_count": 44,
     "metadata": {},
     "output_type": "execute_result"
    }
   ],
   "source": [
    "classAverage(filename)"
   ]
  },
  {
   "cell_type": "code",
   "execution_count": 47,
   "metadata": {},
   "outputs": [],
   "source": [
    "# print class 1st mark\n",
    "def firstMark(filename):\n",
    "    first=markslist(filename)\n",
    "    return max(first)\n"
   ]
  },
  {
   "cell_type": "code",
   "execution_count": 48,
   "metadata": {},
   "outputs": [
    {
     "data": {
      "text/plain": [
       "75"
      ]
     },
     "execution_count": 48,
     "metadata": {},
     "output_type": "execute_result"
    }
   ],
   "source": [
    "firstMark(filename)"
   ]
  },
  {
   "cell_type": "code",
   "execution_count": 49,
   "metadata": {},
   "outputs": [],
   "source": [
    "# pass percentage of students:\n",
    "def passPercentage(filename):\n",
    "    m=markslist(filename)\n",
    "    noofpassed=[]\n",
    "    for i in m:\n",
    "        if i>40:\n",
    "            noofpassed.append(i)\n",
    "    passpercent=(len(noofpassed)/len(m))*100\n",
    "    return passpercent"
   ]
  },
  {
   "cell_type": "code",
   "execution_count": 50,
   "metadata": {},
   "outputs": [
    {
     "data": {
      "text/plain": [
       "46.0"
      ]
     },
     "execution_count": 50,
     "metadata": {},
     "output_type": "execute_result"
    }
   ],
   "source": [
    "passPercentage(filename)"
   ]
  },
  {
   "cell_type": "code",
   "execution_count": 51,
   "metadata": {},
   "outputs": [],
   "source": [
    "#fail percentage\n",
    "def failPercentage(filename):\n",
    "    m=markslist(filename)\n",
    "    nooffailed=[]\n",
    "    for i in m:\n",
    "        if i<40:\n",
    "            nooffailed.append(i)\n",
    "    failpercent=((len( nooffailed)/len(m))*100)\n",
    "    return failpercent"
   ]
  },
  {
   "cell_type": "code",
   "execution_count": 52,
   "metadata": {},
   "outputs": [
    {
     "data": {
      "text/plain": [
       "52.0"
      ]
     },
     "execution_count": 52,
     "metadata": {},
     "output_type": "execute_result"
    }
   ],
   "source": [
    "failPercentage(filename)"
   ]
  },
  {
   "cell_type": "code",
   "execution_count": 53,
   "metadata": {},
   "outputs": [
    {
     "name": "stdout",
     "output_type": "stream",
     "text": [
      "[59, 53, 47, 69, 55, 69, 49, 69, 74, 72, 61, 66, 50, 43, 70, 75, 52, 72, 54, 58, 42, 63, 60, 53, 53, 51, 48, 72, 55, 50, 74, 42, 66, 50, 67, 63, 53, 52, 50, 75, 41, 55, 49, 67, 72, 72]\n",
      "46\n"
     ]
    }
   ],
   "source": [
    "#frequency of passed fellows\n",
    "def frequencyOfPassed(filename):\n",
    "    m=markslist(filename)\n",
    "    pl=[]\n",
    "    for i in m:\n",
    "        if i>40:\n",
    "            pl.append(i)\n",
    "    return pl\n",
    "\n",
    "\n",
    "\n",
    "s=frequencyOfPassed(filename) \n",
    "print(s)\n",
    "print(len(s))"
   ]
  },
  {
   "cell_type": "code",
   "execution_count": 54,
   "metadata": {},
   "outputs": [
    {
     "name": "stdout",
     "output_type": "stream",
     "text": [
      "[38, 5, 18, 16, 8, 27, 2, 33, 18, 27, 23, 8, 13, 11, 21, 36, 30, 9, 30, 9, 18, 10, 28, 2, 28, 29, 7, 38, 36, 38, 20, 39, 5, 3, 17, 33, 29, 36, 6, 14, 13, 5, 13, 6, 24, 30, 23, 38, 13, 11, 30, 18] 52\n"
     ]
    }
   ],
   "source": [
    "#frequency of failed fellows\n",
    "def frequencyOfFailed(filename):\n",
    "    m=markslist(filename)\n",
    "    fL=[]\n",
    "    for i in m:\n",
    "        if i<40:\n",
    "            fL.append(i)\n",
    "    return fL\n",
    "\n",
    "p=frequencyOfFailed(filename)\n",
    "print(p,len(p))"
   ]
  },
  {
   "cell_type": "code",
   "execution_count": null,
   "metadata": {},
   "outputs": [],
   "source": []
  }
 ],
 "metadata": {
  "kernelspec": {
   "display_name": "Python 3",
   "language": "python",
   "name": "python3"
  },
  "language_info": {
   "codemirror_mode": {
    "name": "ipython",
    "version": 3
   },
   "file_extension": ".py",
   "mimetype": "text/x-python",
   "name": "python",
   "nbconvert_exporter": "python",
   "pygments_lexer": "ipython3",
   "version": "3.7.3"
  }
 },
 "nbformat": 4,
 "nbformat_minor": 2
}
