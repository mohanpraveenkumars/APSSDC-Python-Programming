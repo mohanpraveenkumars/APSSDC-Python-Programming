{
 "cells": [
  {
   "cell_type": "markdown",
   "metadata": {},
   "source": [
    "## Regular Expressions"
   ]
  },
  {
   "cell_type": "markdown",
   "metadata": {},
   "source": [
    "- Pattern Matching\n",
    "- Symbolic Notation of a pattern\n",
    "    - Pattern : Format which repeats\n",
    "    - Pattern (RE) represents The set of values / string match the values\n",
    "    \n",
    "- [0-9] -> Any digit\n",
    "\n",
    "- [a-z] -> Any lower case alphabet\n",
    "\n",
    "- [2468] -> All single digit multiples of 2\n",
    "\n",
    "- ^[0-9]{1}$ -> only single digit number\n",
    "\n",
    "- ^[0-9]{3}$ -> only 3 digit numbers\n",
    "\n",
    "- [0-9]*0$ --> All multiples of 10\n",
    "\n",
    "- ^[1-9][0-9]*[05]$ --> All multiples of 5  ---> Testing for minimum of two digits\n",
    "\n",
    "- ^([1-9][0-9]*[05])$|^([5])$  --> for all multiples of 5 including single digit\n",
    "\n",
    "- ^[1-9][0-9]{9}$ --> All 10 digit numbers\n",
    "\n",
    "- [m][o][h][a][n] or (mohan) --> searching for a word\n",
    "\n",
    "- ^[6-9][0-9]{9}$ --> Validating phone number (starts with 9876 and 10 digit number)\n",
    "- ^[6-9][0-9]{9}$|^[0][6-9][0-9]{9}$  --> phne number starting with 0 and 11 digits\n",
    "- ^[6-9][0-9]{9}$|^[0][6-9][0-9]{9}$|^[+][9][1][6-9][0-9]{9}$ --> phone number starting with +91 and with 0 with 10 digit number\n",
    "\n",
    "- ^[0-9a-z][0-9a-z_.]{4,13}[0-9a-z][@][0-9a-z]{3,18}[.][a-z]{2,4}$ --> Email Validation (username@domin.extension)\n",
    "\n",
    "    - username\n",
    "        - length of username : [6,15]\n",
    "        - No special characters other than _.\n",
    "        - Should not brgin and end with _.\n",
    "        - Characters set : all digits and alphabets\n",
    "    - domain\n",
    "        - length of domain : [3,18]\n",
    "        - No special characters\n",
    "        - Charatcer set : all digits and lower case alphabets\n",
    "    - extension\n",
    "        - length of extension : [2,4]\n",
    "        - No special charatcers\n",
    "        - Character set : alphabets lowercase\n",
    "        \n",
    "- ^[a]...[z]$ --> starting with 'a' and ending with 'z' with length 5\n",
    "- ^[a].*[z]$ ---> starting with 'a' and ending with 'z' witout limiting character length"
   ]
  },
  {
   "cell_type": "code",
   "execution_count": null,
   "metadata": {},
   "outputs": [],
   "source": []
  },
  {
   "cell_type": "markdown",
   "metadata": {},
   "source": [
    "## Regular Expressions to python"
   ]
  },
  {
   "cell_type": "code",
   "execution_count": 2,
   "metadata": {},
   "outputs": [
    {
     "data": {
      "text/plain": [
       "False"
      ]
     },
     "execution_count": 2,
     "metadata": {},
     "output_type": "execute_result"
    }
   ],
   "source": [
    "# function to validate a phone number in python\n",
    "\n",
    "import re\n",
    "\n",
    "def phoneNumberValidater(number):\n",
    "    pattern = \"^[6-9][0-9]{9}$|^[0][6-9][0-9]{9}$|^[+][9][1][6-9][0-9]{9}$\"\n",
    "    if re.match(pattern,str(number)):\n",
    "        return True\n",
    "    else:\n",
    "        return False\n",
    "    return\n",
    "\n",
    "phoneNumberValidater(98765432)"
   ]
  },
  {
   "cell_type": "code",
   "execution_count": 1,
   "metadata": {},
   "outputs": [
    {
     "data": {
      "text/plain": [
       "True"
      ]
     },
     "execution_count": 1,
     "metadata": {},
     "output_type": "execute_result"
    }
   ],
   "source": [
    "# function to validate aemail in python\n",
    "\n",
    "import re\n",
    "\n",
    "def emailValidater(email_id):\n",
    "    pattern = \"^[0-9a-z][0-9a-z_.]{4,13}[0-9a-z][@][0-9a-z]{3,18}[.][a-z]{2,4}$\"\n",
    "    if re.match(pattern,str(email_id)):\n",
    "        return True\n",
    "    else:\n",
    "        return False\n",
    "    return\n",
    "\n",
    "emailValidater(\"mpraveen@apssdc.in\")"
   ]
  },
  {
   "cell_type": "code",
   "execution_count": 9,
   "metadata": {},
   "outputs": [
    {
     "name": "stdout",
     "output_type": "stream",
     "text": [
      "Invalid Mailid\n"
     ]
    }
   ],
   "source": [
    "contacts={\"name1\" : [9876543210, \"name1@domain.ext\"]}\n",
    "\n",
    "def addcontact(name, phone, email):\n",
    "    if name in contacts:\n",
    "        print(name, \"already exits\")\n",
    "    else:\n",
    "        if not phoneNumberValidater(phone):\n",
    "            print(\"Invalid Number\")\n",
    "            return\n",
    "        if not emailValidater(email):\n",
    "            print(\"Invalid Mailid\")\n",
    "            return\n",
    "        newcontact = []\n",
    "        newcontact.append(phone)\n",
    "        newcontact.append(email)\n",
    "        contacts[name] = newcontact\n",
    "        \n",
    "\n",
    "addcontact(\"name2\", \"9876543210\", \"name2234@domainext\" )"
   ]
  },
  {
   "cell_type": "code",
   "execution_count": 10,
   "metadata": {},
   "outputs": [
    {
     "data": {
      "text/plain": [
       "{'name1': [9876543210, 'name1@domain.ext']}"
      ]
     },
     "execution_count": 10,
     "metadata": {},
     "output_type": "execute_result"
    }
   ],
   "source": [
    "contacts\n"
   ]
  },
  {
   "cell_type": "code",
   "execution_count": 11,
   "metadata": {},
   "outputs": [
    {
     "name": "stdout",
     "output_type": "stream",
     "text": [
      "name1\n",
      "phone: 9876543210\n",
      "email: name1@domain.ext\n"
     ]
    }
   ],
   "source": [
    "def searchContacts(name):\n",
    "    if name in contacts:\n",
    "        print(name)\n",
    "        print(\"phone:\" , contacts[name][0])\n",
    "        print(\"email:\" , contacts[name][1])\n",
    "    else:\n",
    "        print(\"%s does not exit\" %name)\n",
    "        \n",
    "searchContacts(\"name1\")"
   ]
  },
  {
   "cell_type": "code",
   "execution_count": 12,
   "metadata": {},
   "outputs": [
    {
     "name": "stdout",
     "output_type": "stream",
     "text": [
      "2 contacts added succesfully\n",
      "{'name1': [9876543210, 'name1@domain.ext'], 'name4': [970865432, 'name4_12@gmail.com'], 'name5': [9876345678, 'name5_h2@gmail.com']}\n"
     ]
    },
    {
     "data": {
      "text/plain": [
       "{'name1': [9876543210, 'name1@domain.ext'],\n",
       " 'name4': [970865432, 'name4_12@gmail.com'],\n",
       " 'name5': [9876345678, 'name5_h2@gmail.com']}"
      ]
     },
     "execution_count": 12,
     "metadata": {},
     "output_type": "execute_result"
    }
   ],
   "source": [
    "def importcontacts(newcontacts):\n",
    "    contacts.update(newcontacts)\n",
    "    print(len(newcontacts.keys()), \"contacts added succesfully\")\n",
    "    print(contacts)\n",
    "    return\n",
    "\n",
    "newcontacts={\"name4\":[970865432,\"name4_12@gmail.com\"], \"name5\":[9876345678, \"name5_h2@gmail.com\"]}\n",
    "importcontacts(newcontacts)\n",
    "contacts"
   ]
  },
  {
   "cell_type": "code",
   "execution_count": 13,
   "metadata": {},
   "outputs": [
    {
     "name": "stdout",
     "output_type": "stream",
     "text": [
      "name1 \n",
      " Phone : 9876543210 \n",
      " Email : name1@domain.ext\n",
      "name4 \n",
      " Phone : 970865432 \n",
      " Email : name4_12@gmail.com\n",
      "name5 \n",
      " Phone : 9876345678 \n",
      " Email : name5_h2@gmail.com\n"
     ]
    }
   ],
   "source": [
    "def listAllContacts():\n",
    "    for contact, info in contacts.items():\n",
    "        print(contact,\"\\n\",\"Phone :\", info[0], \"\\n\",\"Email :\",info[1])\n",
    "    return\n",
    "\n",
    "listAllContacts()"
   ]
  },
  {
   "cell_type": "code",
   "execution_count": 19,
   "metadata": {},
   "outputs": [
    {
     "name": "stdout",
     "output_type": "stream",
     "text": [
      "name5 is modified\n",
      "phone number is modified\n",
      "email id is modified\n"
     ]
    }
   ],
   "source": [
    "#Function to edit a contact information\n",
    "\n",
    "def editContact(name, phone, email):\n",
    "    if name in contacts:\n",
    "        print(\"%s is modified\" %name)\n",
    "        if not phoneNumberValidater(phone):\n",
    "            print(\"Invalid Number\")\n",
    "            return\n",
    "        else:\n",
    "            contacts[name][0]=phone\n",
    "            print(\"phone number is modified\")\n",
    "        if not emailValidater(email):\n",
    "            print(\"Invalid Mailid\")\n",
    "            return\n",
    "        else:\n",
    "            contacts[name][1]=email\n",
    "            print(\"email id is modified\")\n",
    "\n",
    "editContact(\"name5\", \"8765432123\", \"modifiy_mailid@gmail.com\")\n",
    "        "
   ]
  },
  {
   "cell_type": "code",
   "execution_count": 20,
   "metadata": {},
   "outputs": [
    {
     "data": {
      "text/plain": [
       "{'name1': [9876543210, 'name1@domain.ext'],\n",
       " 'name4': [970865432, 'name4_12@gmail.com'],\n",
       " 'name5': ['8765432123', 'modifiy_mailid@gmail.com']}"
      ]
     },
     "execution_count": 20,
     "metadata": {},
     "output_type": "execute_result"
    }
   ],
   "source": [
    "contacts\n"
   ]
  },
  {
   "cell_type": "code",
   "execution_count": null,
   "metadata": {
    "collapsed": true
   },
   "outputs": [],
   "source": []
  },
  {
   "cell_type": "markdown",
   "metadata": {},
   "source": [
    "### File handing in Python\n",
    "\n",
    "**File** - A document which stores some information residing on the perment storage\n",
    "**Types** - Text, PDF, CSV, HTML, C, Python...etc..\n",
    "\n",
    "File I/O - Channelling I/O data to files\n",
    "Default I/O channels - Keyboard / Screen\n",
    "\n",
    "Change I/O channel to files for Reading and writing into files\n",
    "\n",
    "Read a file - Input from file\n",
    "Write a file - Output to a file\n",
    "\n",
    "Read / Write a file - open(filename, mode)  --> mode represents read or write modes\n",
    "\n",
    "\n"
   ]
  },
  {
   "cell_type": "code",
   "execution_count": 40,
   "metadata": {},
   "outputs": [
    {
     "name": "stdout",
     "output_type": "stream",
     "text": [
      "My name is Mohan\n",
      "I am a Trainer cum developer in APSSDC\n",
      "APSSDC stands for Andhra Pradesh State skill development Organisation\n"
     ]
    }
   ],
   "source": [
    "# Function to read a file\n",
    "\n",
    "def readFile(filename):\n",
    "    f = open(filename, 'r')\n",
    "    filedata = f.read()\n",
    "    f.close()\n",
    "    return filedata\n",
    "\n",
    "filename = 'DataFiles/data.txt'\n",
    "for line in readFile(filename).split('\\n'):\n",
    "    print(line)"
   ]
  },
  {
   "cell_type": "code",
   "execution_count": 41,
   "metadata": {},
   "outputs": [
    {
     "name": "stdout",
     "output_type": "stream",
     "text": [
      "My name is Mohan\n",
      "I am a Trainer cum developer in APSSDC\n",
      "APSSDC stands for Andhra Pradesh State skill development Organisation"
     ]
    }
   ],
   "source": [
    "def printFileDataLines(filename):\n",
    "    f = open(filename, 'r')\n",
    "    for line in f:\n",
    "        print(line, end='')\n",
    "    return\n",
    "printFileDataLines(filename)"
   ]
  },
  {
   "cell_type": "code",
   "execution_count": null,
   "metadata": {},
   "outputs": [],
   "source": []
  },
  {
   "cell_type": "code",
   "execution_count": 48,
   "metadata": {},
   "outputs": [],
   "source": [
    "#Function to write data into file\n",
    "\n",
    "def writeIntoFile(filename, filedata):\n",
    "    with open(filename, 'w') as f:\n",
    "        f.write(filedata)\n",
    "    return\n",
    "\n",
    "filename = 'DataFiles/data.txt'\n",
    "\n",
    "writeIntoFile(filename, \"new data\")"
   ]
  },
  {
   "cell_type": "code",
   "execution_count": 49,
   "metadata": {},
   "outputs": [],
   "source": [
    "#Function to append data in existing file\n",
    "\n",
    "def appendDatatofile(filename, filedata):\n",
    "    with open(filename, 'a') as f:\n",
    "        f.write(filedata)\n",
    "    return\n",
    "\n",
    "filedata = \"\\nline\\nline2\"\n",
    "appendDatatofile(filename, filedata)"
   ]
  },
  {
   "cell_type": "code",
   "execution_count": null,
   "metadata": {},
   "outputs": [],
   "source": []
  }
 ],
 "metadata": {
  "kernelspec": {
   "display_name": "Python 3",
   "language": "python",
   "name": "python3"
  },
  "language_info": {
   "codemirror_mode": {
    "name": "ipython",
    "version": 3
   },
   "file_extension": ".py",
   "mimetype": "text/x-python",
   "name": "python",
   "nbconvert_exporter": "python",
   "pygments_lexer": "ipython3",
   "version": "3.7.3"
  }
 },
 "nbformat": 4,
 "nbformat_minor": 2
}
