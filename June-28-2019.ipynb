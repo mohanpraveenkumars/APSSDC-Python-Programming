{
 "cells": [
  {
   "cell_type": "code",
   "execution_count": 3,
   "metadata": {},
   "outputs": [
    {
     "data": {
      "text/plain": [
       "[1, 2, 3, 4, 5]"
      ]
     },
     "execution_count": 3,
     "metadata": {},
     "output_type": "execute_result"
    }
   ],
   "source": [
    "li = [1,2,3,2,1, 4, 4, 5,5,5]\n",
    "li.sort()\n",
    "u2 = []\n",
    "unique = []\n",
    "#unique = [li[i] for i in range(0,len(li)-1) if (li[i] != li[i+1] and i < len(li)-1) or (i == len(li)-1)]\n",
    "[u2.append(i) for i in li if i not in u2 ]\n",
    "u2"
   ]
  },
  {
   "cell_type": "markdown",
   "metadata": {},
   "source": [
    "## OBJECTIVES\n",
    "\n",
    "- Maps\n",
    "- Lambda\n",
    "- Filter\n",
    "- Use Cases - File / Data Encryption\n",
    "\n"
   ]
  },
  {
   "cell_type": "markdown",
   "metadata": {},
   "source": [
    "#### Mapping - Entity with Function\n",
    "\n",
    "f : x`^`2 + 3`*`x + 9\n",
    "\n",
    "x : [1,10]\n",
    "\n",
    "y = f(x)\n",
    "\n",
    "syntax :  map(function, Iterable)\n"
   ]
  },
  {
   "cell_type": "code",
   "execution_count": 8,
   "metadata": {},
   "outputs": [
    {
     "name": "stdout",
     "output_type": "stream",
     "text": [
      "5\n",
      "5\n",
      "1 5 25 125 625 "
     ]
    }
   ],
   "source": [
    "# function to implement map function example\n",
    "def powerN(a,n):\n",
    "    for i in range(n):\n",
    "        print(a**i, end=\" \")\n",
    "    return\n",
    "powerN(int(input()),int(input()))"
   ]
  },
  {
   "cell_type": "code",
   "execution_count": 71,
   "metadata": {},
   "outputs": [
    {
     "data": {
      "text/plain": [
       "[1, 8, 27, 64, 125]"
      ]
     },
     "execution_count": 71,
     "metadata": {},
     "output_type": "execute_result"
    }
   ],
   "source": [
    "def cube(n):\n",
    "    return n**3\n",
    "li = [1,2,3,4,5]\n",
    "list(map(cube,li))\n",
    "\n",
    "tuple(map(float, li))\n",
    "\n",
    "numbers = [int(i) for i in li ]\n",
    "[cube(i) for i in numbers]"
   ]
  },
  {
   "cell_type": "markdown",
   "metadata": {},
   "source": [
    "### Filter\n",
    "\n",
    "Used to check Boolean Values\n"
   ]
  },
  {
   "cell_type": "code",
   "execution_count": 23,
   "metadata": {},
   "outputs": [
    {
     "data": {
      "text/plain": [
       "[1, 2, 3]"
      ]
     },
     "execution_count": 23,
     "metadata": {},
     "output_type": "execute_result"
    }
   ],
   "source": [
    "#example \n",
    "li = [1,2,'a','b','c', 3]\n",
    "\n",
    "def isDigit(c):\n",
    "    c = str(c)\n",
    "    if c.isdigit():\n",
    "        return True\n",
    "    return False\n",
    "\n",
    "#isDigit('a')\n",
    "\n",
    "list(filter(isDigit, li))"
   ]
  },
  {
   "cell_type": "code",
   "execution_count": 26,
   "metadata": {},
   "outputs": [
    {
     "data": {
      "text/plain": [
       "['a', 'b', 'c']"
      ]
     },
     "execution_count": 26,
     "metadata": {},
     "output_type": "execute_result"
    }
   ],
   "source": [
    "#example \n",
    "li = [1,2,'a','b','c', 3]\n",
    "\n",
    "def isDigit(c):\n",
    "    c = str(c)\n",
    "    if c.isdigit():\n",
    "        return False\n",
    "    return True\n",
    "\n",
    "#isDigit('a')\n",
    "\n",
    "list(filter(isDigit, li))"
   ]
  },
  {
   "cell_type": "code",
   "execution_count": 66,
   "metadata": {},
   "outputs": [
    {
     "data": {
      "text/plain": [
       "[503, 509, 521, 523, 541, 547, 557, 563, 569, 571, 577, 587, 593, 599]"
      ]
     },
     "execution_count": 66,
     "metadata": {},
     "output_type": "execute_result"
    }
   ],
   "source": [
    "# Identify all primes in a range\n",
    "\n",
    "def check_prime(n):\n",
    "    if n==2:\n",
    "        return True\n",
    "    for i in range(2,n):\n",
    "        if n%i == 0:\n",
    "            return False\n",
    "    return True\n",
    "\n",
    "lb,ub = 500,600\n",
    "prime_list = list(filter(check_prime, range(lb, ub+1)))\n",
    "prime_list"
   ]
  },
  {
   "cell_type": "code",
   "execution_count": 68,
   "metadata": {},
   "outputs": [
    {
     "data": {
      "text/plain": [
       "[503, 509, 521, 523, 541, 547, 557, 563, 569, 571, 577, 587, 593, 599]"
      ]
     },
     "execution_count": 68,
     "metadata": {},
     "output_type": "execute_result"
    }
   ],
   "source": [
    "# Using list Comprehension\n",
    "\n",
    "prime_list1 = [i for i in range(lb,ub+1) if check_prime(i)]\n",
    "prime_list1"
   ]
  },
  {
   "cell_type": "code",
   "execution_count": null,
   "metadata": {},
   "outputs": [],
   "source": []
  },
  {
   "cell_type": "markdown",
   "metadata": {},
   "source": [
    "### Lambda\n",
    "\n",
    "Anonynus Function\n",
    "Lambda can be embedded into lists, Maps, Filters\n",
    "\n",
    "Syntax : lambda argument(s): expression  \n"
   ]
  },
  {
   "cell_type": "code",
   "execution_count": 75,
   "metadata": {},
   "outputs": [
    {
     "data": {
      "text/plain": [
       "1"
      ]
     },
     "execution_count": 75,
     "metadata": {},
     "output_type": "execute_result"
    }
   ],
   "source": [
    "rem = lambda num: num%2\n",
    "rem(5)"
   ]
  },
  {
   "cell_type": "code",
   "execution_count": null,
   "metadata": {},
   "outputs": [],
   "source": []
  },
  {
   "cell_type": "code",
   "execution_count": 88,
   "metadata": {},
   "outputs": [
    {
     "data": {
      "text/plain": [
       "[1, 8, 27, 64, 125, 216, 343, 512, 729]"
      ]
     },
     "execution_count": 88,
     "metadata": {},
     "output_type": "execute_result"
    }
   ],
   "source": [
    "#Lambda in Map\n",
    "\n",
    "a = list(map(lambda num: num**3, range(1,10)))\n",
    "a"
   ]
  },
  {
   "cell_type": "code",
   "execution_count": 76,
   "metadata": {},
   "outputs": [
    {
     "data": {
      "text/plain": [
       "[1, 0, 1, 0, 1, 0, 1, 0, 1]"
      ]
     },
     "execution_count": 76,
     "metadata": {},
     "output_type": "execute_result"
    }
   ],
   "source": [
    "#Lambda in Map\n",
    "\n",
    "number_list = [1,2,3,4,5,6,7,8,9]\n",
    "\n",
    "result = list(map(lambda num: num%2 , number_list))\n",
    "result"
   ]
  },
  {
   "cell_type": "code",
   "execution_count": 93,
   "metadata": {},
   "outputs": [
    {
     "data": {
      "text/plain": [
       "[8, 9]"
      ]
     },
     "execution_count": 93,
     "metadata": {},
     "output_type": "execute_result"
    }
   ],
   "source": [
    "# Lambda i Filter\n",
    "\n",
    "number_list = [1,2,3,4,5,6,7,8,9]\n",
    "\n",
    "result = list(filter(lambda num: num>7 , number_list))\n",
    "result"
   ]
  },
  {
   "cell_type": "code",
   "execution_count": null,
   "metadata": {},
   "outputs": [],
   "source": []
  },
  {
   "cell_type": "code",
   "execution_count": 104,
   "metadata": {},
   "outputs": [
    {
     "data": {
      "text/plain": [
       "[7, 18, 18, 21, 15, 5, 17, 15, 1, 8]"
      ]
     },
     "execution_count": 104,
     "metadata": {},
     "output_type": "execute_result"
    }
   ],
   "source": [
    "#\n",
    "from random import randint\n",
    "\n",
    "first_internal = [randint(0,25) for i in range(10)]\n",
    "second_internal = [randint(0,25) for io in range(10)]\n",
    "\n",
    "avg_internal = list(map(lambda x,y: (x+y)//2, first_internal, second_internal))\n",
    "avg_internal"
   ]
  },
  {
   "cell_type": "code",
   "execution_count": 109,
   "metadata": {},
   "outputs": [
    {
     "data": {
      "text/plain": [
       "[False, True, True, True, True, False, True, True, False, False]"
      ]
     },
     "execution_count": 109,
     "metadata": {},
     "output_type": "execute_result"
    }
   ],
   "source": [
    "pass_fail = list(map(lambda pas: pas>10, avg_internal ))\n",
    "pass_fail"
   ]
  },
  {
   "cell_type": "code",
   "execution_count": 110,
   "metadata": {},
   "outputs": [
    {
     "data": {
      "text/plain": [
       "[18, 18, 21, 15, 17, 15]"
      ]
     },
     "execution_count": 110,
     "metadata": {},
     "output_type": "execute_result"
    }
   ],
   "source": [
    "avg_passed = list(filter(lambda pas: pas>=15, avg_internal ))\n",
    "avg_passed"
   ]
  },
  {
   "cell_type": "code",
   "execution_count": 111,
   "metadata": {},
   "outputs": [
    {
     "data": {
      "text/plain": [
       "[7, 5, 1, 8]"
      ]
     },
     "execution_count": 111,
     "metadata": {},
     "output_type": "execute_result"
    }
   ],
   "source": [
    "avg_failed = list(filter(lambda pas: pas<15, avg_internal ))\n",
    "avg_failed"
   ]
  },
  {
   "cell_type": "code",
   "execution_count": null,
   "metadata": {},
   "outputs": [],
   "source": []
  },
  {
   "cell_type": "markdown",
   "metadata": {},
   "source": [
    "### Applying functional programming to the marks analysis application"
   ]
  },
  {
   "cell_type": "code",
   "execution_count": 16,
   "metadata": {},
   "outputs": [],
   "source": [
    "# Generate Marks data \n",
    "from random import randint\n",
    "\n",
    "def generateMarks(n, lb, ub):\n",
    "    filename = 'DataFiles/Marks.txt'\n",
    "    with open(filename, 'w') as f:\n",
    "        for i in range(n):\n",
    "            f.write(str(randint(lb, ub))+'\\n')\n",
    "\n",
    "generateMarks(300, 0, 100)"
   ]
  },
  {
   "cell_type": "code",
   "execution_count": 28,
   "metadata": {},
   "outputs": [
    {
     "name": "stdout",
     "output_type": "stream",
     "text": [
      "50\n",
      "33.666666666666664\n",
      "66.33333333333334\n",
      "25.333333333333336\n",
      "6\n",
      "2\n"
     ]
    }
   ],
   "source": [
    "# Mark Analysis\n",
    "# Percentage of Passed, Failed and Distinction\n",
    "# Frequency of Highest & Lowest Mark\n",
    "\n",
    "import re\n",
    "def readMarklist(filepath):\n",
    "    with open(filepath, 'r') as fh:\n",
    "        data = fh.read().split()\n",
    "    return list(map(int, data))\n",
    "\n",
    "def classAverage(filepath):\n",
    "    marks_list = readMarklist(filepath)\n",
    "    return sum(marks_list)//len(marks_list)\n",
    "\n",
    "def failedPercentage(filepath):\n",
    "    marks_list = readMarklist(filepath)\n",
    "    failedcount = len(list(filter(lambda x:x <35, marks_list)))\n",
    "    return (failedcount/len(marks_list)) * 100\n",
    "\n",
    "def passedPercentage(filepath):\n",
    "    return 100 - failedPercentage(filepath)\n",
    "\n",
    "def distinctionPercentage(filepath):\n",
    "    marks_list = readMarklist(filepath)\n",
    "    distinctioncount = len(list(filter(lambda x:x >75, marks_list)))\n",
    "    return (distinctioncount/len(marks_list)) * 100\n",
    "\n",
    "def highestMarksFrequency(filepath):\n",
    "    marks_list = readMarklist(filepath)\n",
    "    return marks_list.count(max(marks_list))\n",
    "\n",
    "def lowestMarksFrequency(filepath):\n",
    "    marks_list = readMarklist(filepath)\n",
    "    return marks_list.count(min(marks_list))\n",
    "\n",
    "    \n",
    "\n",
    "filepath = 'DataFiles/Marks.txt'\n",
    "print(classAverage(filepath))\n",
    "print(failedPercentage(filepath))\n",
    "print(passedPercentage(filepath))\n",
    "print(distinctionPercentage(filepath))\n",
    "print(highestMarksFrequency(filepath))\n",
    "print(lowestMarksFrequency(filepath))"
   ]
  },
  {
   "cell_type": "code",
   "execution_count": null,
   "metadata": {},
   "outputs": [],
   "source": []
  },
  {
   "cell_type": "markdown",
   "metadata": {},
   "source": [
    "## Data Encryption\n",
    "\n",
    "\n",
    "key - Mapping of characters with replaced \n",
    "\n",
    "0 -> 4\n",
    "1 -> 5\n",
    "2 -> 6\n",
    "3 -> 7  ..........soon"
   ]
  },
  {
   "cell_type": "code",
   "execution_count": null,
   "metadata": {},
   "outputs": [],
   "source": []
  },
  {
   "cell_type": "code",
   "execution_count": 36,
   "metadata": {},
   "outputs": [],
   "source": [
    "# FUnction to generate key for encryption\n",
    "keypath = 'DataFiles/key.txt'\n",
    "def generateKey(keypath):\n",
    "    with open(keypath, 'w') as key:\n",
    "        for i in range(10):\n",
    "            if i<6:\n",
    "                key.write(str(i)+' '+ str(i+4)+'\\n')\n",
    "            else:\n",
    "                #key.write(str(i)+' '+str(i-6)+'\\n')\n",
    "                key.write(str(i)+ ' '+str(i+4)[-1:]+'\\n')\n",
    "        return     \n",
    "generateKey(keypath)"
   ]
  },
  {
   "cell_type": "code",
   "execution_count": 39,
   "metadata": {},
   "outputs": [],
   "source": [
    "# FUnction to generate key for encryption\n",
    "keypath = 'DataFiles/key.txt'\n",
    "def generateKey1(keypath):\n",
    "    with open(keypath, 'w') as key:\n",
    "        for i in range(10):\n",
    "            if i<(10-5):\n",
    "                key.write(str(i)+' '+ str(i+5)+'\\n')\n",
    "            else:\n",
    "                #key.write(str(i)+' '+str(i-6)+'\\n')\n",
    "                key.write(str(i)+ ' '+str(i+5)[-1:]+'\\n')\n",
    "        return     \n",
    "generateKey1(keypath)"
   ]
  },
  {
   "cell_type": "code",
   "execution_count": null,
   "metadata": {},
   "outputs": [],
   "source": []
  },
  {
   "cell_type": "code",
   "execution_count": 41,
   "metadata": {},
   "outputs": [
    {
     "data": {
      "text/plain": [
       "{'0': '5',\n",
       " '1': '6',\n",
       " '2': '7',\n",
       " '3': '8',\n",
       " '4': '9',\n",
       " '5': '0',\n",
       " '6': '1',\n",
       " '7': '2',\n",
       " '8': '3',\n",
       " '9': '4'}"
      ]
     },
     "execution_count": 41,
     "metadata": {},
     "output_type": "execute_result"
    }
   ],
   "source": [
    "# Function to encrypt a data file\n",
    "\n",
    "def dictionaryKeyFile(keypath):\n",
    "    key ={}\n",
    "    with open(keypath, 'r') as f:\n",
    "        for line in f:\n",
    "            line = line.split()\n",
    "            key[line[0]] = line[1]\n",
    "    return key\n",
    "\n",
    "dictionaryKeyFile(keypath)\n",
    "#def encryptMarksData(datafile, keyfile):\n",
    "    #contruct a dictionary for key data\n",
    "    "
   ]
  },
  {
   "cell_type": "code",
   "execution_count": null,
   "metadata": {},
   "outputs": [],
   "source": []
  },
  {
   "cell_type": "code",
   "execution_count": null,
   "metadata": {},
   "outputs": [],
   "source": []
  }
 ],
 "metadata": {
  "kernelspec": {
   "display_name": "Python 3",
   "language": "python",
   "name": "python3"
  },
  "language_info": {
   "codemirror_mode": {
    "name": "ipython",
    "version": 3
   },
   "file_extension": ".py",
   "mimetype": "text/x-python",
   "name": "python",
   "nbconvert_exporter": "python",
   "pygments_lexer": "ipython3",
   "version": "3.7.3"
  }
 },
 "nbformat": 4,
 "nbformat_minor": 2
}
