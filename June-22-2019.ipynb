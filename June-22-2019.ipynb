{
 "cells": [
  {
   "cell_type": "markdown",
   "metadata": {},
   "source": [
    "### Practise session by Ayyapa"
   ]
  },
  {
   "cell_type": "code",
   "execution_count": 9,
   "metadata": {},
   "outputs": [],
   "source": [
    "fh = open(\"book.txt\", \"w\")"
   ]
  },
  {
   "cell_type": "code",
   "execution_count": 10,
   "metadata": {},
   "outputs": [
    {
     "data": {
      "text/plain": [
       "12"
      ]
     },
     "execution_count": 10,
     "metadata": {},
     "output_type": "execute_result"
    }
   ],
   "source": [
    "data = \"hi every one\"\n",
    "fh.write(data)"
   ]
  },
  {
   "cell_type": "code",
   "execution_count": 11,
   "metadata": {},
   "outputs": [],
   "source": [
    "fh.close()"
   ]
  },
  {
   "cell_type": "code",
   "execution_count": null,
   "metadata": {},
   "outputs": [],
   "source": []
  },
  {
   "cell_type": "code",
   "execution_count": 12,
   "metadata": {},
   "outputs": [
    {
     "name": "stdout",
     "output_type": "stream",
     "text": [
      "hi every one\n"
     ]
    }
   ],
   "source": [
    "# Function to read\n",
    "\n",
    "fh = open(\"book.txt\",\"r\")\n",
    "print(fh.read())\n",
    "fh.close()"
   ]
  },
  {
   "cell_type": "code",
   "execution_count": null,
   "metadata": {},
   "outputs": [],
   "source": []
  },
  {
   "cell_type": "markdown",
   "metadata": {},
   "source": [
    "## HackerEarth"
   ]
  },
  {
   "cell_type": "code",
   "execution_count": 55,
   "metadata": {},
   "outputs": [
    {
     "name": "stdout",
     "output_type": "stream",
     "text": [
      "2\n",
      "abc\n",
      "cda\n",
      "2\n",
      "2\n"
     ]
    }
   ],
   "source": [
    "#anagrams\n",
    "\n",
    "u=int(input())\n",
    "for i in range(u):\n",
    "    a=list(input())\n",
    " \n",
    "    b=list(input())\n",
    " \n",
    "    k=0\n",
    "    if len(a)<=len(b) :\n",
    "        for y in range(len(a)):\n",
    "            if a[y] in b:\n",
    "                k=k+1\n",
    "                gh=b.index(a[y])\n",
    "                b[gh]='0'\n",
    "               \n",
    "    else:\n",
    "        for y in range(len(b)):\n",
    "            if b[y] in a:\n",
    "                k=k+1\n",
    "                gh=a.index(b[y])\n",
    "                a[gh]='0'\n",
    " \n",
    "    print((len(a)-k)+(len(b)-k))"
   ]
  },
  {
   "cell_type": "code",
   "execution_count": 56,
   "metadata": {},
   "outputs": [
    {
     "data": {
      "text/plain": [
       "99"
      ]
     },
     "execution_count": 56,
     "metadata": {},
     "output_type": "execute_result"
    }
   ],
   "source": [
    "ord('c')"
   ]
  },
  {
   "cell_type": "code",
   "execution_count": null,
   "metadata": {},
   "outputs": [],
   "source": []
  },
  {
   "cell_type": "markdown",
   "metadata": {},
   "source": [
    "### Akash Sinha Sir's Class"
   ]
  },
  {
   "cell_type": "markdown",
   "metadata": {},
   "source": [
    "#### Day Objectives:\n",
    "- File Handling\n",
    "    - Basic File Data Processing\n",
    "        - Accessing and Modifying File Data\n",
    "    - Character Count\n",
    "    - Line Count\n",
    "    - File Size\n",
    "    - Word Count\n",
    "    - Unique word count"
   ]
  },
  {
   "cell_type": "code",
   "execution_count": 23,
   "metadata": {},
   "outputs": [
    {
     "name": "stdout",
     "output_type": "stream",
     "text": [
      "12\n"
     ]
    }
   ],
   "source": [
    "def charcountinFile(filename):\n",
    "    with open(filename, \"r\") as fh:\n",
    "        count=0\n",
    "        for i in fh:\n",
    "            for j in i:\n",
    "                count+=1\n",
    "        print(count)\n",
    "    \n",
    "charcountinFile(\"book.txt\")"
   ]
  },
  {
   "cell_type": "code",
   "execution_count": 25,
   "metadata": {},
   "outputs": [
    {
     "name": "stdout",
     "output_type": "stream",
     "text": [
      "3\n"
     ]
    }
   ],
   "source": [
    "def linecountinFile(filename):\n",
    "    with open(filename, \"r\") as fh:\n",
    "        count=0\n",
    "        for i in fh:\n",
    "            count+=1\n",
    "        print(count)\n",
    "    \n",
    "linecountinFile(\"DataFiles/Contacts.txt\")"
   ]
  },
  {
   "cell_type": "code",
   "execution_count": 34,
   "metadata": {},
   "outputs": [
    {
     "name": "stdout",
     "output_type": "stream",
     "text": [
      "3\n"
     ]
    }
   ],
   "source": [
    "def wordcountinFile(filename):\n",
    "    with open(filename, \"r\") as fh:\n",
    "        count = 0\n",
    "        filedata = fh.read().split(\" \")\n",
    "        for i in filedata:\n",
    "            count+=1\n",
    "        print(count)\n",
    "        \n",
    "wordcountinFile(\"book.txt\")"
   ]
  },
  {
   "cell_type": "code",
   "execution_count": 53,
   "metadata": {},
   "outputs": [
    {
     "name": "stdout",
     "output_type": "stream",
     "text": [
      "7\n"
     ]
    }
   ],
   "source": [
    "def uniqueword_count(filepath):\n",
    "    with open(filepath,'r') as f:\n",
    "        filedata = f.read()\n",
    "        words=filedata.split()\n",
    "        unique_words=set(words)\n",
    "        return len(list(unique_words))    \n",
    "print(uniqueword_count(\"book.txt\"))\n"
   ]
  },
  {
   "cell_type": "code",
   "execution_count": 44,
   "metadata": {},
   "outputs": [
    {
     "name": "stdout",
     "output_type": "stream",
     "text": [
      "12 B\n"
     ]
    }
   ],
   "source": [
    "import os\n",
    "\n",
    "def filesize(filename):\n",
    "    size = os.path.getsize(filename)\n",
    "    if size < 1024:\n",
    "        print(size, \"B\")\n",
    "    elif size >= 1024:\n",
    "        size = size % (1024)\n",
    "        print(size,\"KB\")\n",
    "    elif size >= (1024**2):\n",
    "        size = size % (1024**2)\n",
    "        print(size, \"MB\")\n",
    "        \n",
    "filesize(\"book.txt\")"
   ]
  },
  {
   "cell_type": "code",
   "execution_count": null,
   "metadata": {},
   "outputs": [],
   "source": []
  }
 ],
 "metadata": {
  "kernelspec": {
   "display_name": "Python 3",
   "language": "python",
   "name": "python3"
  },
  "language_info": {
   "codemirror_mode": {
    "name": "ipython",
    "version": 3
   },
   "file_extension": ".py",
   "mimetype": "text/x-python",
   "name": "python",
   "nbconvert_exporter": "python",
   "pygments_lexer": "ipython3",
   "version": "3.7.3"
  }
 },
 "nbformat": 4,
 "nbformat_minor": 2
}
